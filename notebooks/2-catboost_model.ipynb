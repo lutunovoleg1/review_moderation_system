{
 "cells": [
  {
   "cell_type": "markdown",
   "id": "04f17378-5f8d-427a-acbb-e0593a3a2727",
   "metadata": {},
   "source": [
    "# CatBoost с текстовыми фичами\n",
    "CatBoost неплохо работает с текстовыми фичами. Можно использовать эту модель как бейзлайн."
   ]
  },
  {
   "cell_type": "code",
   "execution_count": 2,
   "id": "7574585b-fab3-48e9-b79f-1eb873fb03ab",
   "metadata": {},
   "outputs": [],
   "source": [
    "import numpy as np\n",
    "import pandas as pd\n",
    "from sklearn.model_selection import train_test_split\n",
    "from sklearn.metrics import accuracy_score, precision_score, recall_score\n",
    "from datasets import load_dataset\n",
    "from catboost import CatBoostClassifier, Pool\n",
    "from tqdm import tqdm\n",
    "import pickle\n",
    "import warnings\n",
    "\n",
    "warnings.filterwarnings('ignore')\n",
    "tqdm.pandas()"
   ]
  },
  {
   "cell_type": "code",
   "execution_count": 3,
   "id": "ee240c5d-5cfe-448b-9d93-7cf5a9dcf94f",
   "metadata": {},
   "outputs": [],
   "source": [
    "# загрузка датасета\n",
    "df = load_dataset(\"MonoHime/ru_sentiment_dataset\")\n",
    "df_train, df_test = df['train'].to_pandas(), df['validation'].to_pandas()"
   ]
  },
  {
   "cell_type": "code",
   "execution_count": 4,
   "id": "88bd61dd-4d92-4023-b0cd-1b5f114967de",
   "metadata": {},
   "outputs": [],
   "source": [
    "df_train, df_test = df_train.drop(['Unnamed: 0'], axis=1), df_test.drop(['Unnamed: 0'], axis=1)"
   ]
  },
  {
   "cell_type": "code",
   "execution_count": 5,
   "id": "2f86c72d-1b15-4069-a764-29ba0a703a7a",
   "metadata": {},
   "outputs": [
    {
     "data": {
      "text/plain": [
       "((189891, 2), (21098, 2))"
      ]
     },
     "execution_count": 5,
     "metadata": {},
     "output_type": "execute_result"
    }
   ],
   "source": [
    "df_train.shape, df_test.shape"
   ]
  },
  {
   "cell_type": "code",
   "execution_count": 6,
   "id": "070e4292-2c2b-4d5a-b118-05fff86e4bb3",
   "metadata": {},
   "outputs": [
    {
     "data": {
      "text/html": [
       "<div>\n",
       "<style scoped>\n",
       "    .dataframe tbody tr th:only-of-type {\n",
       "        vertical-align: middle;\n",
       "    }\n",
       "\n",
       "    .dataframe tbody tr th {\n",
       "        vertical-align: top;\n",
       "    }\n",
       "\n",
       "    .dataframe thead th {\n",
       "        text-align: right;\n",
       "    }\n",
       "</style>\n",
       "<table border=\"1\" class=\"dataframe\">\n",
       "  <thead>\n",
       "    <tr style=\"text-align: right;\">\n",
       "      <th></th>\n",
       "      <th>text</th>\n",
       "      <th>sentiment</th>\n",
       "    </tr>\n",
       "  </thead>\n",
       "  <tbody>\n",
       "    <tr>\n",
       "      <th>0</th>\n",
       "      <td>.с.,и спросил его:  о Посланник Аллаха!Ты пори...</td>\n",
       "      <td>1</td>\n",
       "    </tr>\n",
       "    <tr>\n",
       "      <th>1</th>\n",
       "      <td>Роднее всех родных Попала я в ГКБ №8 еще в дек...</td>\n",
       "      <td>1</td>\n",
       "    </tr>\n",
       "    <tr>\n",
       "      <th>2</th>\n",
       "      <td>Непорядочное отношение к своим работникам Рабо...</td>\n",
       "      <td>2</td>\n",
       "    </tr>\n",
       "    <tr>\n",
       "      <th>3</th>\n",
       "      <td>). Отсутствуют нормативы, Госты и прочее, что ...</td>\n",
       "      <td>1</td>\n",
       "    </tr>\n",
       "    <tr>\n",
       "      <th>4</th>\n",
       "      <td>У меня машина в руках 5 лет и это п...</td>\n",
       "      <td>1</td>\n",
       "    </tr>\n",
       "  </tbody>\n",
       "</table>\n",
       "</div>"
      ],
      "text/plain": [
       "                                                text  sentiment\n",
       "0  .с.,и спросил его:  о Посланник Аллаха!Ты пори...          1\n",
       "1  Роднее всех родных Попала я в ГКБ №8 еще в дек...          1\n",
       "2  Непорядочное отношение к своим работникам Рабо...          2\n",
       "3  ). Отсутствуют нормативы, Госты и прочее, что ...          1\n",
       "4             У меня машина в руках 5 лет и это п...          1"
      ]
     },
     "execution_count": 6,
     "metadata": {},
     "output_type": "execute_result"
    }
   ],
   "source": [
    "df_train.head()"
   ]
  },
  {
   "cell_type": "code",
   "execution_count": 7,
   "id": "420f94e9-f8af-45cc-890b-413a9a955b4f",
   "metadata": {},
   "outputs": [],
   "source": [
    "df_train, df_val = train_test_split(df_train, test_size=0.2, stratify=df_train['sentiment'], random_state=42)"
   ]
  },
  {
   "cell_type": "code",
   "execution_count": 8,
   "id": "b33ef56e-335c-4969-99d2-b1bae43a51ff",
   "metadata": {},
   "outputs": [
    {
     "data": {
      "text/plain": [
       "((151912, 2), (37979, 2), (21098, 2))"
      ]
     },
     "execution_count": 8,
     "metadata": {},
     "output_type": "execute_result"
    }
   ],
   "source": [
    "df_train.shape, df_val.shape, df_test.shape"
   ]
  },
  {
   "cell_type": "markdown",
   "id": "51b466ff",
   "metadata": {},
   "source": [
    "## Эвристические признаки"
   ]
  },
  {
   "cell_type": "code",
   "execution_count": 9,
   "id": "c8016448",
   "metadata": {},
   "outputs": [],
   "source": [
    "import pymorphy2\n",
    "import re\n",
    "from functools import lru_cache\n",
    "\n",
    "morph = pymorphy2.MorphAnalyzer()"
   ]
  },
  {
   "cell_type": "code",
   "execution_count": 10,
   "id": "067ec4db",
   "metadata": {},
   "outputs": [],
   "source": [
    "stop_words = [\n",
    "    # Местоимения (личные, притяжательные, указательные — без контекста бесполезны)\n",
    "    \"я\", \"ты\", \"он\", \"она\", \"оно\", \"мы\", \"вы\", \"они\",\n",
    "    \"меня\", \"тебя\", \"его\", \"её\", \"нас\", \"вас\", \"их\",\n",
    "    \"мне\", \"тебе\", \"ему\", \"ей\", \"нам\", \"вам\", \"им\",\n",
    "    \"мной\", \"тобой\", \"им\", \"ней\", \"нами\", \"вами\", \"ими\",\n",
    "    \"мой\", \"твой\", \"его\", \"её\", \"наш\", \"ваш\", \"их\",\n",
    "    \"этот\", \"эта\", \"это\", \"эти\",\n",
    "    \"тот\", \"та\", \"то\", \"те\",\n",
    "    \"весь\", \"вся\", \"всё\", \"все\",\n",
    "    \"сам\", \"сама\", \"само\", \"сами\",\n",
    "    \"кто\", \"что\", \"какой\", \"какая\", \"какое\", \"какие\",\n",
    "    \"чей\", \"чья\", \"чьё\", \"чьи\",\n",
    "    \"который\", \"которая\", \"которое\", \"которые\",\n",
    "\n",
    "    # Предлоги (чисто грамматические)\n",
    "    \"в\", \"во\", \"на\", \"с\", \"со\", \"из\", \"от\", \"до\", \"у\", \"о\", \"об\", \"по\", \"за\", \"над\", \"под\",\n",
    "    \"к\", \"ко\", \"перед\", \"через\", \"без\", \"для\", \"про\", \"при\", \"между\", \"около\", \"вокруг\",\n",
    "    \"сквозь\", \"после\", \"против\", \"вдоль\", \"вблизи\", \"внутри\", \"снаружи\", \"напротив\",\n",
    "    \"вслед\", \"вместо\", \"вне\", \"внутрь\", \"вверх\", \"вниз\", \"вперёд\", \"назад\",\n",
    "\n",
    "    # Союзы\n",
    "    \"и\", \"а\", \"но\", \"да\", \"или\", \"либо\", \"зато\", \"что\", \"чтобы\", \"как\", \"если\", \"когда\",\n",
    "    \"пока\", \"потому\", \"хотя\", \"несмотря\", \"ли\", \"тоже\", \"также\", \"ни\", \"едва\",\n",
    "\n",
    "    # Частицы (чисто грамматические, не усиливающие/не ослабляющие)\n",
    "    \"не\", \"ни\", \"бы\", \"пусть\", \"давай\", \"давайте\", \"то\", \"либо\", \"нибудь\", \"ка\",\n",
    "\n",
    "    # Вспомогательные глаголы и связки\n",
    "    \"быть\", \"есть\", \"являться\", \"становиться\", \"делать\", \"сделать\", \"иметь\", \"мочь\",\n",
    "    \"хотеть\", \"надо\", \"нужно\", \"следует\", \"стоит\", \"бывает\"\n",
    "]"
   ]
  },
  {
   "cell_type": "code",
   "execution_count": 11,
   "id": "f0bb5e95",
   "metadata": {},
   "outputs": [],
   "source": [
    "positive_words = [\n",
    "    # Эмоции и чувства\n",
    "    \"радость\", \"счастье\", \"восторг\", \"блаженство\", \"наслаждение\", \"удовольствие\",\n",
    "    \"ликование\", \"восхищение\", \"вдохновение\", \"энтузиазм\", \"воодушевление\",\n",
    "    \"улыбка\", \"смех\", \"веселье\", \"бодрость\", \"оптимизм\", \"надежда\", \"вера\",\n",
    "    \"доверие\", \"любовь\", \"нежность\", \"забота\", \"доброта\", \"щедрость\", \"милосердие\",\n",
    "    \"благодарность\", \"признательность\", \"уважение\", \"восхищение\", \"гордость\",\n",
    "    \"успех\", \"триумф\", \"победа\", \"гармония\", \"спокойствие\", \"мир\", \"согласие\",\n",
    "    \"свобода\", \"независимость\", \"достоинство\", \"честь\", \"благородство\",\n",
    "\n",
    "    # Положительные качества личности\n",
    "    \"добрый\", \"хороший\", \"честный\", \"отзывчивый\", \"внимательный\", \"заботливый\",\n",
    "    \"преданный\", \"верный\", \"надёжный\", \"щедрый\", \"милосердный\", \"благородный\",\n",
    "    \"вежливый\", \"тактичный\", \"скромный\", \"трудолюбивый\", \"настойчивый\",\n",
    "    \"целеустремлённый\", \"ответственный\", \"умный\", \"талантливый\", \"креативный\",\n",
    "    \"изобретательный\", \"инициативный\", \"энергичный\", \"активный\", \"бодрый\",\n",
    "    \"здоровый\", \"сильный\", \"выносливый\", \"гибкий\", \"уравновешенный\", \"спокойный\",\n",
    "    \"терпеливый\", \"дружелюбный\", \"открытый\", \"искренний\", \"прямолинейный\",\n",
    "    \"чуткий\", \"эмпатичный\", \"гуманный\", \"гостеприимный\", \"обаятельный\",\n",
    "    \"харизматичный\", \"обходительный\", \"предусмотрительный\", \"благоразумный\",\n",
    "\n",
    "    # Действия и глаголы\n",
    "    \"радоваться\", \"улыбаться\", \"смеяться\", \"веселиться\", \"наслаждаться\",\n",
    "    \"восхищаться\", \"вдохновлять\", \"вдохновляться\", \"помогать\", \"поддерживать\",\n",
    "    \"заботиться\", \"дарить\", \"делиться\", \"благодарить\", \"хвалить\", \"одобрять\",\n",
    "    \"прощать\", \"обнимать\", \"любить\", \"уважать\", \"ценить\", \"доверять\", \"верить\",\n",
    "    \"побеждать\", \"успевать\", \"преуспевать\", \"развиваться\", \"расти\", \"учиться\",\n",
    "    \"творить\", \"создавать\", \"строить\", \"улучшать\", \"исправлять\", \"восстанавливать\",\n",
    "    \"оживать\", \"ожидать\", \"надеяться\", \"мечтать\", \"стремиться\", \"достигать\",\n",
    "    \"получать\", \"находить\", \"открывать\", \"радовать\", \"восстанавливать\", \"воскрешать\",\n",
    "\n",
    "    # Состояния и абстрактные понятия\n",
    "    \"благо\", \"добро\", \"красота\", \"истина\", \"справедливость\", \"гармония\",\n",
    "    \"порядок\", \"ясность\", \"чистота\", \"свежесть\", \"лёгкость\", \"простота\",\n",
    "    \"ясность\", \"понимание\", \"согласие\", \"единство\", \"согласованность\", \"созвучие\",\n",
    "    \"процветание\", \"благоухание\", \"сияние\", \"свет\", \"тепло\", \"уют\", \"комфорт\",\n",
    "    \"стабильность\", \"надёжность\", \"безопасность\", \"защищённость\", \"достаток\",\n",
    "    \"изобилие\", \"плодородие\", \"рост\", \"расцвет\", \"возрождение\", \"оживление\",\n",
    "\n",
    "    # Наречия и усилители\n",
    "    \"прекрасно\", \"замечательно\", \"отлично\", \"чудесно\", \"восхитительно\",\n",
    "    \"великолепно\", \"потрясающе\", \"фантастически\", \"безупречно\", \"идеально\",\n",
    "    \"успешно\", \"гладко\", \"легко\", \"свободно\", \"радостно\", \"весело\", \"игриво\",\n",
    "    \"нежно\", \"тепло\", \"искренне\", \"честно\", \"открыто\", \"щедро\", \"благородно\",\n",
    "    \"мудро\", \"умело\", \"ловко\", \"мастерски\", \"профессионально\", \"уверенно\",\n",
    "    \"спокойно\", \"уравновешенно\", \"терпеливо\", \"внимательно\", \"заботливо\",\n",
    "\n",
    "    # Дополнительные позитивные слова\n",
    "    \"солнце\", \"цветок\", \"весна\", \"рассвет\", \"звезда\", \"небо\", \"море\", \"луг\",\n",
    "    \"праздник\", \"подарок\", \"сюрприз\", \"чудо\", \"волшебство\", \"сказка\", \"мечта\",\n",
    "    \"план\", \"цель\", \"намерение\", \"желание\", \"стремление\", \"воля\", \"сила\",\n",
    "    \"здоровье\", \"жизнь\", \"любимый\", \"дорогой\", \"близкий\", \"родной\", \"друг\",\n",
    "    \"союз\", \"партнёрство\", \"сотрудничество\", \"поддержка\", \"помощь\", \"семья\",\n",
    "    \"дом\", \"очаг\", \"мир\", \"тишина\", \"покой\", \"баланс\", \"равновесие\", \"ясность\",\n",
    "    \"просветление\", \"озарение\", \"прозрение\", \"вдохновение\", \"муза\", \"талант\",\n",
    "    \"гений\", \"дар\", \"способность\", \"возможность\", \"шанс\", \"удача\", \"везение\",\n",
    "    \"благоприятный\", \"успешный\", \"плодотворный\", \"эффективный\", \"полезный\",\n",
    "    \"ценный\", \"важный\", \"значимый\", \"нужный\", \"желанный\", \"ожидаемый\", \"радостный\",\n",
    "\n",
    "    # Общая оценка\n",
    "    \"отлично\", \"классно\", \"супер\", \"круто\", \"огонь\", \"топ\", \"бомба\", \"вау\", \"ух ты\",\n",
    "    \"восхитительно\", \"замечательно\", \"прекрасно\", \"идеально\", \"безупречно\", \"фантастика\",\n",
    "    \"лучше\", \"лучший\", \"надёжный\", \"качественный\", \"стильный\", \"современный\", \"удобный\",\n",
    "\n",
    "    # Эмоции и реакции\n",
    "    \"рад\", \"доволен\", \"в восторге\", \"восхищён\", \"впечатлён\", \"обрадован\", \"счастлив\",\n",
    "    \"улыбается\", \"смеётся\", \"весело\", \"уютно\", \"тепло\", \"приятно\", \"комфортно\", \"легко\",\n",
    "\n",
    "    # Оценка сервиса/обслуживания\n",
    "    \"вежливый\", \"внимательный\", \"помогли\", \"поддержали\", \"быстро\", \"оперативно\",\n",
    "    \"вовремя\", \"профессионально\", \"грамотно\", \"чётко\", \"ясно\", \"понятно\", \"дружелюбно\",\n",
    "    \"приветливо\", \"обходительно\", \"заботливо\", \"ответили\", \"решили\", \"исправили\",\n",
    "\n",
    "    # Оценка товара/продукта\n",
    "    \"работает\", \"функционирует\", \"заряжается\", \"держит\", \"не глючит\", \"не тормозит\",\n",
    "    \"яркий\", \"насыщенный\", \"вкусный\", \"ароматный\", \"сочный\", \"нежный\", \"мягкий\", \"лёгкий\",\n",
    "    \"долговечный\", \"прочный\", \"надёжный\", \"эргономичный\", \"эстетичный\", \"красивый\",\n",
    "\n",
    "    # Доверие и рекомендации\n",
    "    \"доверяю\", \"рекомендую\", \"советую\", \"берите\", \"покупайте\", \"закажите\", \"попробуйте\",\n",
    "    \"стоит\", \"выгодно\", \"дёшево\", \"недорого\",\n",
    "\n",
    "    # Удовлетворённость\n",
    "    \"подходит\", \"удобно\", \"практично\", \"полезно\", \"нужно\", \"важно\", \"ценю\", \"благодарю\"\n",
    "]"
   ]
  },
  {
   "cell_type": "code",
   "execution_count": 12,
   "id": "87118890",
   "metadata": {},
   "outputs": [],
   "source": [
    "negative_words = [\n",
    "    # Эмоции и состояния\n",
    "    \"грусть\", \"печаль\", \"тоска\", \"уныние\", \"отчаяние\", \"безысходность\", \"апатия\",\n",
    "    \"депрессия\", \"страх\", \"ужас\", \"паника\", \"тревога\", \"волнение\", \"беспокойство\",\n",
    "    \"раздражение\", \"злость\", \"ярость\", \"гнев\", \"ненависть\", \"злоба\", \"озлобленность\",\n",
    "    \"обида\", \"разочарование\", \"неудовольствие\", \"недовольство\", \"досада\", \"досада\",\n",
    "    \"стыд\", \"виноватость\", \"раскаяние\", \"сожаление\", \"зависть\", \"ревность\",\n",
    "    \"подозрение\", \"недоверие\", \"цинизм\", \"пессимизм\", \"безверие\", \"отчуждение\",\n",
    "    \"одиночество\", \"изоляция\", \"потеря\", \"горе\", \"беда\", \"несчастье\", \"бедствие\",\n",
    "    \"катастрофа\", \"провал\", \"поражение\", \"неудача\", \"крах\", \"банкротство\",\n",
    "\n",
    "    # Негативные качества личности\n",
    "    \"злой\", \"жестокий\", \"бессердечный\", \"бездушный\", \"эгоистичный\", \"корыстный\",\n",
    "    \"жадный\", \"алчный\", \"лживый\", \"обманщик\", \"коварный\", \"вероломный\",\n",
    "    \"подлый\", \"низкий\", \"гадкий\", \"мерзкий\", \"грязный\", \"нечестный\", \"надменный\",\n",
    "    \"высокомерный\", \"презрительный\", \"грубый\", \"хамский\", \"агрессивный\",\n",
    "    \"вспыльчивый\", \"раздражительный\", \"нудный\", \"скучный\", \"ленивый\", \"бездельник\",\n",
    "    \"трусливый\", \"робкий\", \"неуверенный\", \"замкнутый\", \"подозрительный\",\n",
    "    \"мстительный\", \"злопамятный\", \"интриган\", \"лицемер\", \"фальшивый\", \"надутый\",\n",
    "    \"вредный\", \"заносчивый\", \"самодовольный\", \"недоброжелательный\", \"враждебный\",\n",
    "\n",
    "    # Действия и глаголы\n",
    "    \"плакать\", \"страдать\", \"мучиться\", \"болеть\", \"ранить\", \"обижать\", \"оскорблять\",\n",
    "    \"унижать\", \"презирать\", \"ненавидеть\", \"завидовать\", \"ревновать\", \"обманывать\",\n",
    "    \"врать\", \"скрывать\", \"прятать\", \"подозревать\", \"бояться\", \"дрожать\", \"кричать\",\n",
    "    \"ругаться\", \"ссориться\", \"воевать\", \"нападать\", \"уничтожать\", \"ломать\", \"портить\",\n",
    "    \"губить\", \"вредить\", \"мешать\", \"мешать\", \"препятствовать\", \"саботировать\",\n",
    "    \"отказывать\", \"лишать\", \"терять\", \"проваливать\", \"проигрывать\", \"падать\",\n",
    "    \"разрушать\", \"разваливаться\", \"гнить\", \"портиться\", \"исчезать\", \"умирать\",\n",
    "    \"задыхаться\", \"стонать\", \"вопить\", \"жаловаться\", \"ныть\", \"ворчать\", \"проклинать\",\n",
    "\n",
    "    # Состояния и абстракции\n",
    "    \"боль\", \"страдание\", \"мука\", \"пытка\", \"угнетение\", \"давление\", \"насилие\",\n",
    "    \"тирания\", \"деспотизм\", \"несправедливость\", \"обман\", \"ложь\", \"фальшь\",\n",
    "    \"лицемерие\", \"предательство\", \"измена\", \"клевета\", \"сплетня\", \"интрига\",\n",
    "    \"хаос\", \"беспорядок\", \"разруха\", \"грязь\", \"тлен\", \"смерть\", \"гибель\", \"конец\",\n",
    "    \"тупик\", \"безысходность\", \"пустота\", \"бессмысленность\", \"абсурд\", \"безумие\",\n",
    "    \"безумие\", \"помешательство\", \"паранойя\", \"ненависть\", \"вражда\", \"конфликт\",\n",
    "    \"война\", \"раздор\", \"неприязнь\", \"враждебность\", \"недоброжелательность\",\n",
    "\n",
    "    # Наречия и усилители негатива\n",
    "    \"ужасно\", \"кошмарно\", \"отвратительно\", \"мерзко\", \"гадко\", \"противно\",\n",
    "    \"неприятно\", \"тошнотворно\", \"безобразно\", \"скверно\", \"дурно\", \"плохо\",\n",
    "    \"неудачно\", \"бесполезно\", \"бессмысленно\", \"тщетно\", \"напрасно\", \"впустую\",\n",
    "    \"безрезультатно\", \"неправильно\", \"ошибочно\", \"фальшиво\", \"лицемерно\",\n",
    "    \"жестоко\", \"бессердечно\", \"грубо\", \"хамски\", \"агрессивно\", \"враждебно\",\n",
    "\n",
    "    # Дополнительные негативные слова\n",
    "    \"тень\", \"тьма\", \"ночь\", \"холод\", \"лед\", \"смерть\", \"болезнь\", \"рана\", \"кровь\",\n",
    "    \"слеза\", \"крик\", \"стон\", \"плач\", \"вопль\", \"ужас\", \"кошмар\", \"призрак\", \"чудовище\",\n",
    "    \"дьявол\", \"ад\", \"проклятие\", \"порок\", \"грех\", \"падение\", \"разврат\", \"алкоголь\",\n",
    "    \"наркотик\", \"зависимость\", \"разлад\", \"разрыв\", \"развод\", \"изгнание\", \"изоляция\",\n",
    "    \"тюрьма\", \"цепи\", \"рабство\", \"угнетение\", \"эксплуатация\", \"бедность\", \"нищета\",\n",
    "    \"голод\", \"холод\", \"болезнь\", \"инвалидность\", \"старость\", \"забвение\", \"заброшенность\",\n",
    "    \"забвение\", \"забытость\", \"беспомощность\", \"беззащитность\", \"уязвимость\",\n",
    "    \"опасность\", \"угроза\", \"риск\", \"авария\", \"крушение\", \"пожар\", \"наводнение\",\n",
    "    \"землетрясение\", \"эпидемия\", \"чума\", \"голод\", \"война\", \"террор\", \"насилие\",\n",
    "\n",
    "    # Общая оценка\n",
    "    \"ужасно\", \"кошмарно\", \"отвратительно\", \"мерзко\", \"паршиво\", \"фу\",\n",
    "    \"разочарование\", \"провал\", \"фейк\", \"обман\", \"пустышка\",\n",
    "\n",
    "    # Эмоции и реакции\n",
    "    \"разочарован\", \"недоволен\", \"злился\", \"разозлился\", \"обиделся\", \"расстроился\",\n",
    "    \"раздражает\", \"бесит\", \"надоело\", \"устал\", \"усталость\", \"апатия\",\n",
    "\n",
    "    # Проблемы с сервисом/обслуживанием\n",
    "    \"игнорируют\", \"молчат\", \"кинули\", \"кидают\", \"обманули\",\n",
    "    \"задержали\", \"потеряли\", \"сломали\", \"испортили\", \"грубят\",\n",
    "    \"хамят\", \"некомпетентные\", \"тупят\", \"перекладывают\", \"отфутболили\",\n",
    "\n",
    "    # Проблемы с товаром/продуктом\n",
    "    \"сломался\", \"глючит\", \"тормозит\", \"виснет\", \"разрядился\",\n",
    "    \"воняет\", \"горький\", \"пресный\", \"сухой\", \"жёсткий\", \"неудобный\",\n",
    "    \"тяжёлый\", \"громоздкий\", \"хлипкий\", \"дешёвка\", \"подделка\",\n",
    "    \"царапает\", \"давит\", \"жмёт\",\n",
    "\n",
    "    # Финансовые претензии\n",
    "    \"дорого\", \"переплатил\", \"завысили\", \"надули\", \"обсчитали\",\n",
    "\n",
    "    # Недоверие и предостережения\n",
    "    \"мошенники\", \"ловушка\", \"развод\"\n",
    "]"
   ]
  },
  {
   "cell_type": "code",
   "execution_count": 13,
   "id": "246f233f",
   "metadata": {},
   "outputs": [],
   "source": [
    "intensifiers = [\n",
    "    # Стандартные усилители\n",
    "    \"очень\", \"сильно\", \"крайне\", \"чрезвычайно\", \"невероятно\", \"безумно\", \"адски\",\n",
    "    \"страшно\", \"ужасно\", \"дико\", \"бешено\", \"чертовски\", \"просто\", \"абсолютно\",\n",
    "    \"полностью\", \"совершенно\", \"вполне\", \"целиком\", \"настоятельно\", \"исключительно\",\n",
    "\n",
    "    # Разговорные и интернет-усилители\n",
    "    \"прям\", \"прямиком\", \"вообще\", \"полностью\", \"до безумия\", \"до ужаса\", \"до дна\",\n",
    "    \"всё-таки\", \"таки\", \"ещё\", \"ещё бы\", \"намного\", \"гораздо\", \"значительно\",\n",
    "    \"в разы\", \"в сто раз\", \"в тысячу раз\", \"максимально\", \"супер\", \"ультра\", \"гипер\",\n",
    "\n",
    "    # Усилители положительной/отрицательной оценки (в зависимости от контекста)\n",
    "    \"идеально\", \"безупречно\", \"абсолютно\", \"фактически\", \"действительно\", \"в самом деле\"\n",
    "]"
   ]
  },
  {
   "cell_type": "code",
   "execution_count": 14,
   "id": "de0020b1",
   "metadata": {},
   "outputs": [],
   "source": [
    "diminishers = [\n",
    "    # Смягчители и ограничители\n",
    "    \"немного\", \"чуть\", \"чуть-чуть\", \"слегка\", \"легко\", \"едва\", \"едва-едва\",\n",
    "    \"почти\", \"приблизительно\", \"примерно\", \"вроде\", \"как бы\", \"типа\", \"наверное\",\n",
    "    \"возможно\", \"похоже\", \"кажется\", \"предположительно\", \"отчасти\", \"частично\",\n",
    "    \"в какой-то степени\", \"в некоторой степени\", \"в меру\", \"умеренно\", \"достаточно\",\n",
    "\n",
    "    # Слова неуверенности и сомнения\n",
    "    \"скорее\", \"вряд ли\", \"вряд\", \"едва ли\", \"всё же\", \"всё-таки\", \"таки\",\n",
    "    \"лишь\", \"только\", \"всего\", \"всего лишь\", \"просто\", \"в общем\", \"в целом\",\n",
    "\n",
    "    # Уменьшительно-ласкательные (в разговорной речи могут ослаблять серьёзность)\n",
    "    \"малость\", \"маленько\", \"чуток\"\n",
    "]"
   ]
  },
  {
   "cell_type": "code",
   "execution_count": 15,
   "id": "c2f11119",
   "metadata": {},
   "outputs": [],
   "source": [
    "with open('data/bad_words.pickle', 'rb') as file:\n",
    "    bad_words = pickle.load(file)"
   ]
  },
  {
   "cell_type": "code",
   "execution_count": null,
   "id": "529c024e",
   "metadata": {},
   "outputs": [],
   "source": [
    "# функция для лемматизации\n",
    "\n",
    "@lru_cache(maxsize=1_000_000)\n",
    "def lemmatize_word(word):\n",
    "    \"\"\"Приводит одно слово к его нормальной форме (лемме).\"\"\"\n",
    "    parsed_word = morph.parse(word)\n",
    "    \n",
    "    # самый вероятный вариант.\n",
    "    if parsed_word:\n",
    "        return parsed_word[0].normal_form\n",
    "    return word"
   ]
  },
  {
   "cell_type": "code",
   "execution_count": 17,
   "id": "7b0ead15",
   "metadata": {},
   "outputs": [],
   "source": [
    "stop_words = set([lemmatize_word(word) for word in stop_words])\n",
    "positive_words = set([lemmatize_word(word) for word in positive_words])\n",
    "negative_words = set([lemmatize_word(word) for word in negative_words])\n",
    "intensifiers = set([lemmatize_word(word) for word in intensifiers])\n",
    "diminishers = set([lemmatize_word(word) for word in diminishers])\n",
    "bad_words = set([lemmatize_word(word) for word in bad_words])"
   ]
  },
  {
   "cell_type": "code",
   "execution_count": 18,
   "id": "9fd2f939",
   "metadata": {},
   "outputs": [],
   "source": [
    "# функции для вычисления признаков\n",
    "def text_length(text: str, *args) -> int:\n",
    "    return len(text)\n",
    "\n",
    "def avg_word_length(text: str, *args) -> float:\n",
    "    return np.mean([len(x) for x in text.split()]).item()\n",
    "\n",
    "def punct_marks_ratio(text: str, *args) -> float:\n",
    "    punct_count = sum(text.count(mark) for mark in ',.;:!?\\\"\\'')\n",
    "    total_count = len(text)\n",
    "    return punct_count / (total_count + 1e-10)\n",
    "\n",
    "def exclamation_ratio(text: str, *args) -> float:\n",
    "    exclamation_count = text.count('!')\n",
    "    total_count = len(text)\n",
    "    return exclamation_count / (total_count + 1e-10)\n",
    "\n",
    "def question_ratio(text: str, *args) -> float:\n",
    "    question_count = text.count('?')\n",
    "    total_count = len(text)\n",
    "    return question_count / (total_count + 1e-10)\n",
    "\n",
    "def caps_words_ratio(text: str, cleaned_text: str, *args) -> float:\n",
    "    words = cleaned_text.split()\n",
    "    caps_words_count = sum(word.isupper() for word in words)\n",
    "    words_total_count = len(words)\n",
    "    return caps_words_count / (words_total_count + 1e-10)\n",
    "\n",
    "def caps_symbols_ratio(text: str, cleaned_text: str, *args) -> float:\n",
    "    caps_symbols_count = sum(x.isupper() for x in cleaned_text)\n",
    "    total_count = len(cleaned_text)\n",
    "    return caps_symbols_count / (total_count + 1e-10)\n",
    "\n",
    "def unique_words_ratio(text: str, cleaned_text: str, lemmatized_text: str) -> float:\n",
    "    unique_words_count = len(set(lemmatized_text.split()))\n",
    "    total_words_count = len(lemmatized_text.split())\n",
    "    return unique_words_count / (total_words_count + 1e-10)\n",
    "\n",
    "def stop_words_ratio(text: str, cleaned_text: str, lemmatized_text: str) -> float:\n",
    "    stop_words_count = sum(word in stop_words for word in lemmatized_text.split())\n",
    "    total_words_count = len(lemmatized_text.split())\n",
    "    return stop_words_count / (total_words_count + 1e-10)\n",
    "\n",
    "def positive_words_ratio(text: str, cleaned_text: str, lemmatized_text: str) -> float:\n",
    "    positive_words_count = sum(word in positive_words for word in lemmatized_text.split())\n",
    "    total_words_count = len(lemmatized_text.split())\n",
    "    return positive_words_count / (total_words_count + 1e-10)\n",
    "\n",
    "def negative_words_ratio(text: str, cleaned_text: str, lemmatized_text: str) -> float:\n",
    "    negative_words_count = sum(word in negative_words for word in lemmatized_text.split())\n",
    "    total_words_count = len(lemmatized_text.split())\n",
    "    return negative_words_count / (total_words_count + 1e-10)\n",
    "\n",
    "def intensifiers_ratio(text: str, cleaned_text: str, lemmatized_text: str) -> float:\n",
    "    intensifier_words_count = sum(word in intensifiers for word in lemmatized_text.split())\n",
    "    total_words_count = len(lemmatized_text.split())\n",
    "    return intensifier_words_count / (total_words_count + 1e-10)\n",
    "\n",
    "def diminishers_ratio(text: str, cleaned_text: str, lemmatized_text: str) -> float:\n",
    "    diminisher_words_count = sum(word in diminishers for word in lemmatized_text.split())\n",
    "    total_words_count = len(lemmatized_text.split())\n",
    "    return diminisher_words_count / (total_words_count + 1e-10)\n",
    "\n",
    "def bad_words_ratio(text: str, cleaned_text: str, lemmatized_text: str) -> float:\n",
    "    bad_words_count = sum(word in bad_words for word in lemmatized_text.split())\n",
    "    total_words_count = len(lemmatized_text.split())\n",
    "    return bad_words_count / (total_words_count + 1e-10)"
   ]
  },
  {
   "cell_type": "code",
   "execution_count": 19,
   "id": "b4b47e8c",
   "metadata": {},
   "outputs": [],
   "source": [
    "def prepare_features(df: pd.DataFrame) -> pd.DataFrame:\n",
    "    \"\"\"Вычисляет все эвристические признаки для датасета\"\"\"\n",
    "    \n",
    "    df = df.copy()\n",
    "    \n",
    "    features_functions = [\n",
    "        ('text_length', text_length),\n",
    "        ('avg_word_length', avg_word_length),\n",
    "        ('punct_marks_ratio', punct_marks_ratio),\n",
    "        ('exclamation_ratio', exclamation_ratio),\n",
    "        ('question_ratio', question_ratio),\n",
    "        ('caps_words_ratio', caps_words_ratio),\n",
    "        ('caps_symbols_ratio', caps_symbols_ratio),\n",
    "        ('stop_words_ratio', stop_words_ratio),\n",
    "        ('unique_words_ratio', unique_words_ratio),\n",
    "        ('positive_words_ratio', positive_words_ratio),\n",
    "        ('negative_words_ratio', negative_words_ratio),\n",
    "        ('intensifiers_ratio', intensifiers_ratio),\n",
    "        ('diminishers_ratio', diminishers_ratio),\n",
    "        ('bad_words_ratio', bad_words_ratio),\n",
    "    ]\n",
    "\n",
    "    features = [x[0] for x in features_functions]\n",
    "    functions = [x[1] for x in features_functions]\n",
    "\n",
    "    df['cleaned_text'] = df['text'].progress_apply(lambda text: re.sub(r'[^a-zA-Zа-яА-ЯёЁ0-9]', ' ', text))\n",
    "    df['lemmatized_text'] = df['cleaned_text'].progress_apply(lambda text: ' '.join([lemmatize_word(word) for word in text.split()]))\n",
    "    df[features] = df.progress_apply(\n",
    "        lambda row: [func(row.text, row.cleaned_text, row.lemmatized_text) for func in functions],\n",
    "        axis=1, result_type='expand'\n",
    "    )\n",
    "\n",
    "    return df"
   ]
  },
  {
   "cell_type": "code",
   "execution_count": 20,
   "id": "40dfdd59",
   "metadata": {},
   "outputs": [
    {
     "name": "stderr",
     "output_type": "stream",
     "text": [
      "100%|██████████| 151912/151912 [00:03<00:00, 46948.24it/s]\n",
      "100%|██████████| 151912/151912 [01:01<00:00, 2462.13it/s]\n",
      "100%|██████████| 151912/151912 [00:51<00:00, 2953.99it/s]\n"
     ]
    }
   ],
   "source": [
    "df_train = prepare_features(df_train)"
   ]
  },
  {
   "cell_type": "code",
   "execution_count": 21,
   "id": "c54ff2eb",
   "metadata": {},
   "outputs": [
    {
     "name": "stderr",
     "output_type": "stream",
     "text": [
      "100%|██████████| 37979/37979 [00:00<00:00, 45126.61it/s]\n",
      "100%|██████████| 37979/37979 [00:08<00:00, 4351.57it/s]\n",
      "100%|██████████| 37979/37979 [00:12<00:00, 2970.64it/s]\n"
     ]
    }
   ],
   "source": [
    "df_val = prepare_features(df_val)"
   ]
  },
  {
   "cell_type": "code",
   "execution_count": 22,
   "id": "fcdb2c42",
   "metadata": {},
   "outputs": [
    {
     "name": "stderr",
     "output_type": "stream",
     "text": [
      "100%|██████████| 21098/21098 [00:00<00:00, 40266.75it/s]\n",
      "100%|██████████| 21098/21098 [00:04<00:00, 4781.90it/s]\n",
      "100%|██████████| 21098/21098 [00:07<00:00, 2930.56it/s]\n"
     ]
    }
   ],
   "source": [
    "df_test = prepare_features(df_test)"
   ]
  },
  {
   "cell_type": "code",
   "execution_count": 23,
   "id": "7d501e78",
   "metadata": {},
   "outputs": [
    {
     "data": {
      "text/plain": [
       "((151912, 18), (37979, 18), (21098, 18))"
      ]
     },
     "execution_count": 23,
     "metadata": {},
     "output_type": "execute_result"
    }
   ],
   "source": [
    "df_train.shape, df_val.shape, df_test.shape"
   ]
  },
  {
   "cell_type": "markdown",
   "id": "567a6304-fdc9-40bf-858a-174407ce529c",
   "metadata": {},
   "source": [
    "## Обучение моделей"
   ]
  },
  {
   "cell_type": "markdown",
   "id": "88de49c5",
   "metadata": {},
   "source": [
    "### 1. Модель только на текстовых фичах"
   ]
  },
  {
   "cell_type": "code",
   "execution_count": 24,
   "id": "abe95243-bcd0-4503-b020-34908175b491",
   "metadata": {},
   "outputs": [],
   "source": [
    "pool_train = Pool(\n",
    "    data=df_train[['text']],\n",
    "    label=df_train['sentiment'],\n",
    "    text_features=['text'],\n",
    ")\n",
    "\n",
    "pool_val = Pool(\n",
    "    data=df_val[['text']],\n",
    "    label=df_val['sentiment'],\n",
    "    text_features=['text'],\n",
    ")\n",
    "\n",
    "pool_test = Pool(\n",
    "    data=df_test[['text']],\n",
    "    label=df_test['sentiment'],\n",
    "    text_features=['text'],\n",
    ")"
   ]
  },
  {
   "cell_type": "code",
   "execution_count": 25,
   "id": "133d6f77-23bd-4c4c-b30f-3a1d5065fe8e",
   "metadata": {},
   "outputs": [
    {
     "name": "stdout",
     "output_type": "stream",
     "text": [
      "0:\tlearn: 0.6861077\ttest: 0.6945154\tbest: 0.6945154 (0)\ttotal: 1.16s\tremaining: 19m 19s\n",
      "50:\tlearn: 0.7068039\ttest: 0.7097343\tbest: 0.7097343 (50)\ttotal: 52s\tremaining: 16m 8s\n",
      "100:\tlearn: 0.7181789\ttest: 0.7198188\tbest: 0.7198188 (100)\ttotal: 1m 48s\tremaining: 16m 6s\n",
      "150:\tlearn: 0.7248999\ttest: 0.7266121\tbest: 0.7268227 (149)\ttotal: 2m 53s\tremaining: 16m 14s\n",
      "200:\tlearn: 0.7289878\ttest: 0.7292978\tbest: 0.7292978 (200)\ttotal: 3m 54s\tremaining: 15m 30s\n",
      "250:\tlearn: 0.7342014\ttest: 0.7337213\tbest: 0.7338792 (247)\ttotal: 4m 54s\tremaining: 14m 37s\n",
      "300:\tlearn: 0.7390924\ttest: 0.7373549\tbest: 0.7373549 (300)\ttotal: 5m 50s\tremaining: 13m 32s\n",
      "350:\tlearn: 0.7434831\ttest: 0.7400405\tbest: 0.7403039 (348)\ttotal: 6m 48s\tremaining: 12m 34s\n",
      "400:\tlearn: 0.7467350\ttest: 0.7419363\tbest: 0.7420680 (398)\ttotal: 7m 44s\tremaining: 11m 33s\n",
      "450:\tlearn: 0.7497433\ttest: 0.7435951\tbest: 0.7435951 (450)\ttotal: 8m 40s\tremaining: 10m 33s\n",
      "500:\tlearn: 0.7524685\ttest: 0.7447537\tbest: 0.7450433 (487)\ttotal: 9m 36s\tremaining: 9m 34s\n",
      "Stopped by overfitting detector  (50 iterations wait)\n",
      "\n",
      "bestTest = 0.7450433134\n",
      "bestIteration = 487\n",
      "\n",
      "Shrink model to first 488 iterations.\n"
     ]
    },
    {
     "data": {
      "text/plain": [
       "<catboost.core.CatBoostClassifier at 0x13222a5e0>"
      ]
     },
     "execution_count": 25,
     "metadata": {},
     "output_type": "execute_result"
    }
   ],
   "source": [
    "model = CatBoostClassifier(\n",
    "    iterations=1000,\n",
    "    max_depth=8,\n",
    "    learning_rate=5e-2,\n",
    "    eval_metric='Accuracy',\n",
    "    early_stopping_rounds=50,\n",
    "    use_best_model=True,\n",
    "    random_seed=42,\n",
    "    verbose=50,\n",
    ")\n",
    "\n",
    "model.fit(pool_train, eval_set=pool_val)"
   ]
  },
  {
   "cell_type": "code",
   "execution_count": 26,
   "id": "309afd50-cc17-4c5f-91de-2fd52093c9df",
   "metadata": {},
   "outputs": [],
   "source": [
    "y_test = df_test['sentiment']\n",
    "y_test_pred = model.predict(pool_test)"
   ]
  },
  {
   "cell_type": "code",
   "execution_count": 28,
   "id": "633cb4cf-86a8-4525-b0ce-334eceb04ec6",
   "metadata": {},
   "outputs": [
    {
     "name": "stdout",
     "output_type": "stream",
     "text": [
      "Accuracy: 0.7378\n",
      "Precision_macro: 0.7288\n",
      "Recall_macro: 0.7359\n"
     ]
    }
   ],
   "source": [
    "print('Accuracy: %.4f\\nPrecision_macro: %.4f\\nRecall_macro: %.4f' % (accuracy_score(y_test, y_test_pred),\n",
    "                                                                     precision_score(y_test, y_test_pred, average='macro'),\n",
    "                                                                     recall_score(y_test, y_test_pred, average='macro')))"
   ]
  },
  {
   "cell_type": "code",
   "execution_count": 31,
   "id": "327b3245",
   "metadata": {},
   "outputs": [],
   "source": [
    "# сохранение модели\n",
    "model.save_model('artifacts/catboost/text_only_model.cbm')"
   ]
  },
  {
   "cell_type": "markdown",
   "id": "4d1d2bc8-364f-45fd-9ca1-81f86aeebd54",
   "metadata": {},
   "source": [
    "### 2. Модель на всех признаках (текстовые + эвристические)"
   ]
  },
  {
   "cell_type": "code",
   "execution_count": 32,
   "id": "ee9ecc45-8fa4-4a01-9c86-bb8ddbb73297",
   "metadata": {},
   "outputs": [],
   "source": [
    "features = [\n",
    "    'text', 'lemmatized_text',\n",
    "    'text_length', 'avg_word_length', 'punct_marks_ratio',\n",
    "    'exclamation_ratio', 'question_ratio', 'caps_words_ratio',\n",
    "    'caps_symbols_ratio', 'stop_words_ratio', 'unique_words_ratio',\n",
    "    'positive_words_ratio', 'negative_words_ratio', 'intensifiers_ratio',\n",
    "    'diminishers_ratio', 'bad_words_ratio',\n",
    "]"
   ]
  },
  {
   "cell_type": "code",
   "execution_count": 33,
   "id": "03fc94f5-eabc-4690-8d9a-e86e22b4ae09",
   "metadata": {},
   "outputs": [],
   "source": [
    "pool_train = Pool(\n",
    "    data=df_train[features],\n",
    "    label=df_train['sentiment'],\n",
    "    text_features=['text', 'lemmatized_text'],\n",
    ")\n",
    "\n",
    "pool_val = Pool(\n",
    "    data=df_val[features],  \n",
    "    label=df_val['sentiment'],\n",
    "    text_features=['text', 'lemmatized_text'],\n",
    ")\n",
    "\n",
    "pool_test = Pool(   \n",
    "    data=df_test[features],\n",
    "    label=df_test['sentiment'],\n",
    "    text_features=['text', 'lemmatized_text'],\n",
    ")"
   ]
  },
  {
   "cell_type": "code",
   "execution_count": 34,
   "id": "3dda5c37-21d4-49f8-9280-b3592cfcef17",
   "metadata": {},
   "outputs": [
    {
     "name": "stdout",
     "output_type": "stream",
     "text": [
      "0:\tlearn: 0.6958239\ttest: 0.6987019\tbest: 0.6987019 (0)\ttotal: 1.98s\tremaining: 32m 54s\n",
      "50:\tlearn: 0.7281913\ttest: 0.7280866\tbest: 0.7280866 (50)\ttotal: 1m 38s\tremaining: 30m 41s\n",
      "100:\tlearn: 0.7412778\ttest: 0.7418573\tbest: 0.7418573 (100)\ttotal: 3m 24s\tremaining: 30m 23s\n",
      "150:\tlearn: 0.7499934\ttest: 0.7497828\tbest: 0.7499934 (145)\ttotal: 5m 14s\tremaining: 29m 28s\n",
      "200:\tlearn: 0.7563984\ttest: 0.7538376\tbest: 0.7538376 (200)\ttotal: 7m 4s\tremaining: 28m 6s\n",
      "250:\tlearn: 0.7619477\ttest: 0.7582611\tbest: 0.7582875 (245)\ttotal: 8m 54s\tremaining: 26m 35s\n",
      "300:\tlearn: 0.7675496\ttest: 0.7629216\tbest: 0.7632376 (295)\ttotal: 10m 44s\tremaining: 24m 56s\n",
      "350:\tlearn: 0.7718218\ttest: 0.7656863\tbest: 0.7656863 (350)\ttotal: 12m 32s\tremaining: 23m 12s\n",
      "400:\tlearn: 0.7755214\ttest: 0.7680824\tbest: 0.7682930 (399)\ttotal: 14m 22s\tremaining: 21m 27s\n",
      "450:\tlearn: 0.7788851\ttest: 0.7700835\tbest: 0.7700835 (450)\ttotal: 16m 11s\tremaining: 19m 42s\n",
      "500:\tlearn: 0.7818079\ttest: 0.7716106\tbest: 0.7719793 (496)\ttotal: 18m 2s\tremaining: 17m 58s\n",
      "550:\tlearn: 0.7848886\ttest: 0.7726375\tbest: 0.7728218 (546)\ttotal: 19m 52s\tremaining: 16m 12s\n",
      "600:\tlearn: 0.7873177\ttest: 0.7734011\tbest: 0.7736381 (596)\ttotal: 21m 43s\tremaining: 14m 25s\n",
      "650:\tlearn: 0.7899113\ttest: 0.7749019\tbest: 0.7750072 (646)\ttotal: 23m 34s\tremaining: 12m 38s\n",
      "700:\tlearn: 0.7925180\ttest: 0.7749019\tbest: 0.7752179 (688)\ttotal: 25m 23s\tremaining: 10m 50s\n",
      "750:\tlearn: 0.7943810\ttest: 0.7757972\tbest: 0.7761131 (729)\ttotal: 27m 14s\tremaining: 9m 2s\n",
      "800:\tlearn: 0.7966257\ttest: 0.7770083\tbest: 0.7771663 (792)\ttotal: 29m 4s\tremaining: 7m 13s\n",
      "850:\tlearn: 0.7985742\ttest: 0.7779299\tbest: 0.7779299 (847)\ttotal: 30m 55s\tremaining: 5m 24s\n",
      "900:\tlearn: 0.8007465\ttest: 0.7790358\tbest: 0.7790358 (900)\ttotal: 32m 45s\tremaining: 3m 35s\n",
      "950:\tlearn: 0.8026423\ttest: 0.7792201\tbest: 0.7795887 (921)\ttotal: 34m 35s\tremaining: 1m 46s\n",
      "999:\tlearn: 0.8041959\ttest: 0.7799573\tbest: 0.7800363 (974)\ttotal: 36m 23s\tremaining: 0us\n",
      "\n",
      "bestTest = 0.7800363359\n",
      "bestIteration = 974\n",
      "\n",
      "Shrink model to first 975 iterations.\n"
     ]
    },
    {
     "data": {
      "text/plain": [
       "<catboost.core.CatBoostClassifier at 0x151d40730>"
      ]
     },
     "execution_count": 34,
     "metadata": {},
     "output_type": "execute_result"
    }
   ],
   "source": [
    "model = CatBoostClassifier(\n",
    "    iterations=1000,\n",
    "    max_depth=8,\n",
    "    learning_rate=5e-2,\n",
    "    eval_metric='Accuracy',\n",
    "    early_stopping_rounds=50,\n",
    "    use_best_model=True,\n",
    "    random_seed=42,\n",
    "    verbose=50,\n",
    ")\n",
    "\n",
    "model.fit(pool_train, eval_set=pool_val)"
   ]
  },
  {
   "cell_type": "code",
   "execution_count": 35,
   "id": "5d15111b",
   "metadata": {},
   "outputs": [],
   "source": [
    "y_test = df_test['sentiment']\n",
    "y_test_pred = model.predict(pool_test)"
   ]
  },
  {
   "cell_type": "code",
   "execution_count": 36,
   "id": "2a1e664f",
   "metadata": {},
   "outputs": [
    {
     "name": "stdout",
     "output_type": "stream",
     "text": [
      "Accuracy: 0.7725\n",
      "Precision_macro: 0.7634\n",
      "Recall_macro: 0.7654\n"
     ]
    }
   ],
   "source": [
    "print('Accuracy: %.4f\\nPrecision_macro: %.4f\\nRecall_macro: %.4f' % (accuracy_score(y_test, y_test_pred),\n",
    "                                                                     precision_score(y_test, y_test_pred, average='macro'),\n",
    "                                                                     recall_score(y_test, y_test_pred, average='macro')))"
   ]
  },
  {
   "cell_type": "code",
   "execution_count": 37,
   "id": "1349865b",
   "metadata": {},
   "outputs": [],
   "source": [
    "# сохранение модели\n",
    "model.save_model('artifacts/catboost/text_and_heuristics_model.cbm')"
   ]
  },
  {
   "cell_type": "markdown",
   "id": "f3b9ef69",
   "metadata": {},
   "source": [
    "## 3. Эмбеддинги BERT + эвристики"
   ]
  },
  {
   "cell_type": "code",
   "execution_count": 38,
   "id": "fdaeac15",
   "metadata": {},
   "outputs": [],
   "source": [
    "from transformers import AutoTokenizer, AutoModel\n",
    "import torch\n",
    "import math"
   ]
  },
  {
   "cell_type": "code",
   "execution_count": 39,
   "id": "53fa0ea3",
   "metadata": {},
   "outputs": [
    {
     "name": "stdout",
     "output_type": "stream",
     "text": [
      "Модель загружена! Параметров: 29,193,768\n"
     ]
    }
   ],
   "source": [
    "# облегченная модель BERT для эмбеддингов\n",
    "\n",
    "model_name = 'cointegrated/rubert-tiny2'\n",
    "\n",
    "tokenizer = AutoTokenizer.from_pretrained(model_name)\n",
    "model = AutoModel.from_pretrained(model_name)\n",
    "\n",
    "print(f\"Модель загружена! Параметров: {model.num_parameters():,}\")"
   ]
  },
  {
   "cell_type": "code",
   "execution_count": 40,
   "id": "a7d43855",
   "metadata": {},
   "outputs": [],
   "source": [
    "device = 'cpu' \n",
    "model = model.to(device)"
   ]
  },
  {
   "cell_type": "code",
   "execution_count": 41,
   "id": "d5e8f13b",
   "metadata": {},
   "outputs": [],
   "source": [
    "@lru_cache(maxsize=1_000_000)\n",
    "def get_embedding(text):\n",
    "    \"\"\"Получение эмбеддинга для одного текста\"\"\"\n",
    "    inputs = tokenizer(text, return_tensors='pt', truncation=True, padding=True, max_length=512)\n",
    "    inputs = inputs.to(device)\n",
    "\n",
    "    with torch.no_grad():\n",
    "        outputs = model(**inputs)\n",
    "        # среднее по токенам (mean pooling)\n",
    "        embedding = outputs.last_hidden_state.mean(dim=1).squeeze()\n",
    "    \n",
    "    return embedding.cpu().numpy()"
   ]
  },
  {
   "cell_type": "code",
   "execution_count": 42,
   "id": "50d38eb5",
   "metadata": {},
   "outputs": [
    {
     "data": {
      "text/plain": [
       "(312,)"
      ]
     },
     "execution_count": 42,
     "metadata": {},
     "output_type": "execute_result"
    }
   ],
   "source": [
    "get_embedding('проверка эмбеддера').shape"
   ]
  },
  {
   "cell_type": "code",
   "execution_count": 43,
   "id": "87238378",
   "metadata": {},
   "outputs": [],
   "source": [
    "EMBEDDING_SIZE = 312"
   ]
  },
  {
   "cell_type": "code",
   "execution_count": 44,
   "id": "911fc5f4",
   "metadata": {},
   "outputs": [
    {
     "name": "stderr",
     "output_type": "stream",
     "text": [
      "100%|██████████| 151912/151912 [12:33<00:00, 201.72it/s]\n",
      "100%|██████████| 37979/37979 [02:59<00:00, 212.02it/s]\n",
      "100%|██████████| 21098/21098 [01:38<00:00, 214.75it/s]\n"
     ]
    }
   ],
   "source": [
    "embedding_columns = [f'emb_{i}' for i in range(EMBEDDING_SIZE)]\n",
    "\n",
    "df_train[embedding_columns] = df_train.progress_apply(lambda row: get_embedding(row['text']), axis=1, result_type='expand')\n",
    "df_val[embedding_columns]   = df_val.progress_apply(lambda row: get_embedding(row['text']), axis=1, result_type='expand')\n",
    "df_test[embedding_columns]  = df_test.progress_apply(lambda row: get_embedding(row['text']), axis=1, result_type='expand')"
   ]
  },
  {
   "cell_type": "code",
   "execution_count": 45,
   "id": "29f44322",
   "metadata": {},
   "outputs": [
    {
     "data": {
      "text/plain": [
       "((151912, 330), (37979, 330), (21098, 330))"
      ]
     },
     "execution_count": 45,
     "metadata": {},
     "output_type": "execute_result"
    }
   ],
   "source": [
    "df_train.shape, df_val.shape, df_test.shape"
   ]
  },
  {
   "cell_type": "markdown",
   "id": "9d5a7a3f",
   "metadata": {},
   "source": [
    "Чтобы не обучаться на 312-мерных эмбеддингах, можно понизить размерность с помощью PCA до 64:"
   ]
  },
  {
   "cell_type": "code",
   "execution_count": 46,
   "id": "362356c8",
   "metadata": {},
   "outputs": [],
   "source": [
    "from sklearn.decomposition import PCA"
   ]
  },
  {
   "cell_type": "code",
   "execution_count": 47,
   "id": "8a9b664a",
   "metadata": {},
   "outputs": [],
   "source": [
    "pca_model = PCA(n_components=64)\n",
    "\n",
    "pca_embeddings_train = pca_model.fit_transform(df_train[embedding_columns])\n",
    "pca_embeddings_val = pca_model.transform(df_val[embedding_columns])\n",
    "pca_embeddings_test = pca_model.transform(df_test[embedding_columns])\n",
    "\n",
    "pca_features = [f'emb_pca_{i}' for i in range(pca_model.n_components_)]\n",
    "\n",
    "df_train[pca_features] = pca_embeddings_train\n",
    "df_val[pca_features] = pca_embeddings_val\n",
    "df_test[pca_features] = pca_embeddings_test"
   ]
  },
  {
   "cell_type": "code",
   "execution_count": 48,
   "id": "17c09082",
   "metadata": {},
   "outputs": [
    {
     "data": {
      "text/plain": [
       "((151912, 394), (37979, 394), (21098, 394))"
      ]
     },
     "execution_count": 48,
     "metadata": {},
     "output_type": "execute_result"
    }
   ],
   "source": [
    "df_train.shape, df_val.shape, df_test.shape"
   ]
  },
  {
   "cell_type": "code",
   "execution_count": 49,
   "id": "075770d2",
   "metadata": {},
   "outputs": [],
   "source": [
    "features = [\n",
    "    'text_length', 'avg_word_length', 'punct_marks_ratio',\n",
    "    'exclamation_ratio', 'question_ratio', 'caps_words_ratio',\n",
    "    'caps_symbols_ratio', 'stop_words_ratio', 'unique_words_ratio',\n",
    "    'positive_words_ratio', 'negative_words_ratio', 'intensifiers_ratio',\n",
    "    'diminishers_ratio', 'bad_words_ratio',\n",
    "] + pca_features"
   ]
  },
  {
   "cell_type": "code",
   "execution_count": 50,
   "id": "331ce04a",
   "metadata": {},
   "outputs": [],
   "source": [
    "pool_train = Pool(\n",
    "    data=df_train[features],\n",
    "    label=df_train['sentiment']\n",
    ")\n",
    "\n",
    "pool_val = Pool(\n",
    "    data=df_val[features],  \n",
    "    label=df_val['sentiment'],\n",
    ")\n",
    "\n",
    "pool_test = Pool(   \n",
    "    data=df_test[features],\n",
    "    label=df_test['sentiment'],\n",
    ")"
   ]
  },
  {
   "cell_type": "code",
   "execution_count": 51,
   "id": "d7bc25c4",
   "metadata": {},
   "outputs": [
    {
     "name": "stdout",
     "output_type": "stream",
     "text": [
      "0:\tlearn: 0.6224393\ttest: 0.6215277\tbest: 0.6215277 (0)\ttotal: 63ms\tremaining: 1m 2s\n",
      "50:\tlearn: 0.6940071\ttest: 0.6913557\tbest: 0.6913557 (50)\ttotal: 3.69s\tremaining: 1m 8s\n",
      "100:\tlearn: 0.7140384\ttest: 0.7082335\tbest: 0.7082335 (100)\ttotal: 7.07s\tremaining: 1m 2s\n",
      "150:\tlearn: 0.7258149\ttest: 0.7177388\tbest: 0.7177388 (150)\ttotal: 10.3s\tremaining: 58.1s\n",
      "200:\tlearn: 0.7346161\ttest: 0.7229522\tbest: 0.7231628 (198)\ttotal: 13.9s\tremaining: 55.3s\n",
      "250:\tlearn: 0.7421139\ttest: 0.7268754\tbest: 0.7268754 (250)\ttotal: 17.1s\tremaining: 50.9s\n",
      "300:\tlearn: 0.7488151\ttest: 0.7295874\tbest: 0.7295874 (300)\ttotal: 21.2s\tremaining: 49.2s\n",
      "350:\tlearn: 0.7547067\ttest: 0.7329314\tbest: 0.7330630 (347)\ttotal: 24.8s\tremaining: 45.9s\n",
      "400:\tlearn: 0.7603415\ttest: 0.7357224\tbest: 0.7359857 (398)\ttotal: 28.2s\tremaining: 42.1s\n",
      "450:\tlearn: 0.7651403\ttest: 0.7383027\tbest: 0.7383027 (450)\ttotal: 31.4s\tremaining: 38.3s\n",
      "500:\tlearn: 0.7696035\ttest: 0.7393823\tbest: 0.7394350 (496)\ttotal: 34.5s\tremaining: 34.4s\n",
      "550:\tlearn: 0.7744615\ttest: 0.7407515\tbest: 0.7409358 (545)\ttotal: 37.8s\tremaining: 30.8s\n",
      "600:\tlearn: 0.7793723\ttest: 0.7421996\tbest: 0.7423313 (598)\ttotal: 40.9s\tremaining: 27.1s\n",
      "650:\tlearn: 0.7835392\ttest: 0.7429106\tbest: 0.7429106 (626)\ttotal: 44.3s\tremaining: 23.7s\n",
      "700:\tlearn: 0.7876929\ttest: 0.7435951\tbest: 0.7438848 (688)\ttotal: 47.4s\tremaining: 20.2s\n",
      "750:\tlearn: 0.7914911\ttest: 0.7450170\tbest: 0.7453066 (743)\ttotal: 50.6s\tremaining: 16.8s\n",
      "800:\tlearn: 0.7951577\ttest: 0.7456226\tbest: 0.7459122 (786)\ttotal: 53.7s\tremaining: 13.3s\n",
      "850:\tlearn: 0.7988441\ttest: 0.7469918\tbest: 0.7469918 (850)\ttotal: 56.7s\tremaining: 9.94s\n",
      "900:\tlearn: 0.8023856\ttest: 0.7466758\tbest: 0.7471234 (871)\ttotal: 59.8s\tremaining: 6.58s\n",
      "950:\tlearn: 0.8060324\ttest: 0.7473867\tbest: 0.7476763 (940)\ttotal: 1m 2s\tremaining: 3.24s\n",
      "999:\tlearn: 0.8092317\ttest: 0.7477553\tbest: 0.7482030 (983)\ttotal: 1m 5s\tremaining: 0us\n",
      "\n",
      "bestTest = 0.7482029543\n",
      "bestIteration = 983\n",
      "\n",
      "Shrink model to first 984 iterations.\n"
     ]
    },
    {
     "data": {
      "text/plain": [
       "<catboost.core.CatBoostClassifier at 0x16291df10>"
      ]
     },
     "execution_count": 51,
     "metadata": {},
     "output_type": "execute_result"
    }
   ],
   "source": [
    "model = CatBoostClassifier(\n",
    "    iterations=1000,\n",
    "    max_depth=8,\n",
    "    learning_rate=5e-2,\n",
    "    eval_metric='Accuracy',\n",
    "    early_stopping_rounds=100,\n",
    "    use_best_model=True,\n",
    "    verbose=50,\n",
    "    random_seed=42,\n",
    ")\n",
    "\n",
    "model.fit(pool_train, eval_set=pool_val)"
   ]
  },
  {
   "cell_type": "code",
   "execution_count": 52,
   "id": "adbd473d",
   "metadata": {},
   "outputs": [],
   "source": [
    "y_test = df_test['sentiment']\n",
    "y_test_pred = model.predict(pool_test)"
   ]
  },
  {
   "cell_type": "code",
   "execution_count": 53,
   "id": "7e11a1bd",
   "metadata": {},
   "outputs": [
    {
     "name": "stdout",
     "output_type": "stream",
     "text": [
      "Accuracy: 0.7437\n",
      "Precision_macro: 0.7342\n",
      "Recall_macro: 0.7288\n"
     ]
    }
   ],
   "source": [
    "print('Accuracy: %.4f\\nPrecision_macro: %.4f\\nRecall_macro: %.4f' % (accuracy_score(y_test, y_test_pred),\n",
    "                                                                     precision_score(y_test, y_test_pred, average='macro'),\n",
    "                                                                     recall_score(y_test, y_test_pred, average='macro')))"
   ]
  },
  {
   "cell_type": "code",
   "execution_count": 54,
   "id": "b5c87e4d",
   "metadata": {},
   "outputs": [],
   "source": [
    "# сохранение модели\n",
    "model.save_model('artifacts/catboost/embeddings_and_heuristics_model.cbm')"
   ]
  }
 ],
 "metadata": {
  "kernelspec": {
   "display_name": "python-env",
   "language": "python",
   "name": "python3"
  },
  "language_info": {
   "codemirror_mode": {
    "name": "ipython",
    "version": 3
   },
   "file_extension": ".py",
   "mimetype": "text/x-python",
   "name": "python",
   "nbconvert_exporter": "python",
   "pygments_lexer": "ipython3",
   "version": "3.9.6"
  }
 },
 "nbformat": 4,
 "nbformat_minor": 5
}
