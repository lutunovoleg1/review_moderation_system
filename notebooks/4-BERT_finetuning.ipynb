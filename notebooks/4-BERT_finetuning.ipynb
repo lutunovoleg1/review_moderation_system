{
  "cells": [
    {
      "cell_type": "markdown",
      "metadata": {
        "id": "QZNYE8zuMuh9"
      },
      "source": [
        "## Модель BERT\n",
        "Возьмем прдобученную на русском языке модель RuBERT. Попробуем дообучить его на задачу классификации тональности с помощью датасета [RuSentiment](https://huggingface.co/datasets/MonoHime/ru_sentiment_dataset)."
      ]
    },
    {
      "cell_type": "code",
      "execution_count": 1,
      "metadata": {
        "id": "Ll9w7hmZM1yq"
      },
      "outputs": [],
      "source": [
        "from transformers import (\n",
        "    AutoTokenizer,\n",
        "    AutoModelForSequenceClassification,\n",
        "    pipeline,\n",
        "    DataCollatorWithPadding,\n",
        "    Trainer,\n",
        "    TrainingArguments,\n",
        ")\n",
        "from transformers import \n",
        "from sklearn.metrics import accuracy_score, classification_report, confusion_matrix\n",
        "from sklearn.model_selection import train_test_split\n",
        "import datasets\n",
        "import evaluate\n",
        "import numpy as np\n",
        "import torch\n",
        "import time\n",
        "from tqdm import tqdm"
      ]
    },
    {
      "cell_type": "code",
      "execution_count": 2,
      "metadata": {
        "colab": {
          "base_uri": "https://localhost:8080/",
          "height": 399,
          "referenced_widgets": [
            "b833a76dae17452e9dc8ca9b0fe7112e",
            "0b5f0c21e9444804aced5b7729229ee2",
            "516617c18cf2454680fc765050f4dfa6",
            "8ab4683fd0d64cc786a999b64b5e9e6a",
            "b93d864923cb417da40678a150bdd9e1",
            "acdfadafa0ab4962987b644cbd13a8f3",
            "e8d872d31790443c87dff4333b2e92e8",
            "3cbaba28da194e0dad081c3672c291a4",
            "19cd63c91f32443a8c927ac150326589",
            "c5801f340d9d49528deb4a06f71ba1f0",
            "c14b5418d5834b8ca8c12fee457df134",
            "5f02009edaba45aebd0d44606939bcfc",
            "945a08c7ba584296b11898a36a2a5cce",
            "e3ade231c349409085bb9c9fa6940289",
            "d1a5b850d5af406697f8422dd2911844",
            "6a2ef698483c44a2b8fa225af3f606e9",
            "c18983fca5f742f28c742e464e9eb2d4",
            "6a89bd78dd1148ec8d2f716062a15228",
            "15b2e197c7ee46809c13158d2c0db831",
            "803cdd07b48549d085110f207a044534",
            "a6797ae0d4df4e2fb8f5c4495326dcfa",
            "57fadf51061b4d69abf95f01221ec309",
            "a1d042cb6b5b4e5eb2e607420b0aca11",
            "9d40e5177f3f40e8a140613eb2ae5281",
            "c4fd09d17b8f45b5a063d86152c5ee01",
            "28c0535ce8804511abdadb237c491bc7",
            "3805e24379254c67b4f9308486d01205",
            "9fdd78aff6c64f22abdb6195e91ba7ec",
            "a3d2d39763f64441ab16bc710bdbbf85",
            "895959d4953c42b298f6a0d8ff672815",
            "013e107e05e143488864a3246920966f",
            "ae6d2bd57b444137be9fc1825aa470d1",
            "5c04ed91e4fa4e1f8b0d8da68b4ebe88",
            "05e23ff16f4a4273b996b5662be1d646",
            "7ddf8f786ca5486fbccc852d1fc65031",
            "27686b421748448787b9200d23dc1bd4",
            "9e1529d49b9a4411804e1e8c31b45123",
            "768bbc609f3f4340818cfd210b836388",
            "8190a96eabea4cc89f43c59202f98d80",
            "2183483cde6c40bf86735633324850c9",
            "3204db3fa7124653b9a93580fdd5395e",
            "d41d639fdb45417e92ccdc6aee980414",
            "af49c514e56243faa932e556468e5fd2",
            "6c3e70f3b2da4179a2e311a3c0f7a5e1",
            "066d7c2c86ab476c8113b22e1be2451a",
            "91e462bd46bd438584d11cbff13473b3",
            "4d8c2827fa3b4e349d56d01ee0e340bd",
            "134d9f69a67c4fb18047a3b2e063268b",
            "26f29d05b522421d9726796bc4ee4410",
            "f271601436044d08bb52fbcca80487fe",
            "f3e86fdbe6e84aee850782e5d27ce265",
            "a4f9f9e102784943af60c086dd7efc0f",
            "a6c37fea88b34cda8be67314b06b24fa",
            "92937c006bf8446889fd9c9c943f74e0",
            "64a5186f1c2f4e3badd30b75ec528ca9",
            "8da5a643b1314ac799738507fa595c59",
            "abc6237446004699b6b1933fad74bba8",
            "85e49d54e6d5463f9366cb779ebdbab6",
            "840247a9f1cd4027bf84bbb2db842255",
            "6f0a4c75614e452ea94a74571ab1a5ff",
            "6e84bc8b7efc49b1bab33b46915b697d",
            "4bf79c3881634e1cb939fd7c0fcf35ef",
            "d7e06f797f9f4018b2fb6e624dc83915",
            "be863f659a3549bfae6ae65d51aff13d",
            "c96d924ff78140d09ed4f1ea7f757138",
            "90d5f7b434f54262959589308e5ccb51"
          ]
        },
        "id": "2Of0tdZlM1uh",
        "outputId": "5f5605d5-074d-4686-e748-106b3267d767"
      },
      "outputs": [
        {
          "name": "stdout",
          "output_type": "stream",
          "text": [
            "Модель загружена! Параметров: 177,855,747\n",
            "Устройство: CUDA\n"
          ]
        }
      ],
      "source": [
        "# предобученная модель\n",
        "model_name = \"DeepPavlov/rubert-base-cased-sentence\"\n",
        "\n",
        "# загрузка модели и токенизатора\n",
        "tokenizer = AutoTokenizer.from_pretrained(model_name)\n",
        "model = AutoModelForSequenceClassification.from_pretrained(model_name,\n",
        "    num_labels=3,                 # NEUTRAL, POSITIVE, NEGATIVE\n",
        "    ignore_mismatched_sizes=True  # Игнорируем несоответствие размеров для базового тестирования\n",
        ")\n",
        "\n",
        "print(f\"Модель загружена! Параметров: {model.num_parameters():,}\")\n",
        "print(f\"Устройство: {'CUDA' if torch.cuda.is_available() else 'CPU'}\")"
      ]
    },
    {
      "cell_type": "code",
      "execution_count": 3,
      "metadata": {
        "colab": {
          "base_uri": "https://localhost:8080/"
        },
        "id": "KcoJ8eKtM1sN",
        "outputId": "6dd59bf9-932d-4c75-b755-535d3b4ef57f"
      },
      "outputs": [
        {
          "name": "stdout",
          "output_type": "stream",
          "text": [
            "{0: 'LABEL_0', 1: 'LABEL_1', 2: 'LABEL_2'}\n",
            "{'LABEL_0': 0, 'LABEL_1': 1, 'LABEL_2': 2}\n"
          ]
        }
      ],
      "source": [
        "# соответствие меток\n",
        "print(model.config.id2label)\n",
        "print(model.config.label2id)"
      ]
    },
    {
      "cell_type": "code",
      "execution_count": 4,
      "metadata": {
        "colab": {
          "base_uri": "https://localhost:8080/"
        },
        "id": "7qQX2mDsM1p7",
        "outputId": "950c3672-c33e-4e08-aaed-f939d703bcae"
      },
      "outputs": [
        {
          "name": "stdout",
          "output_type": "stream",
          "text": [
            "{0: 'NEUTRAL', 1: 'POSITIVE', 2: 'NEGATIVE'}\n",
            "{'NEUTRAL': 0, 'POSITIVE': 1, 'NEGATIVE': 2}\n"
          ]
        }
      ],
      "source": [
        "model.config.id2label = {\n",
        "    0: 'NEUTRAL',\n",
        "    1: 'POSITIVE',\n",
        "    2: 'NEGATIVE'\n",
        "}\n",
        "model.config.label2id = {\n",
        "    'NEUTRAL':  0,\n",
        "    'POSITIVE': 1,\n",
        "    'NEGATIVE': 2\n",
        "}\n",
        "print(model.config.id2label)\n",
        "print(model.config.label2id)"
      ]
    },
    {
      "cell_type": "code",
      "execution_count": 5,
      "metadata": {
        "colab": {
          "base_uri": "https://localhost:8080/"
        },
        "id": "MFaaKsF0M1n1",
        "outputId": "93bb5471-d79a-4a65-a658-50cf3256695f"
      },
      "outputs": [
        {
          "name": "stdout",
          "output_type": "stream",
          "text": [
            "[{'label': 'POSITIVE', 'score': 0.3956296741962433}]\n"
          ]
        }
      ],
      "source": [
        "pipe = pipeline(\n",
        "    task=\"sentiment-analysis\",\n",
        "    model=model,\n",
        "    tokenizer=tokenizer,\n",
        "    device=0 if torch.cuda.is_available() else -1\n",
        ")\n",
        "pipe('Отличное место!')"
      ]
    },
    {
      "cell_type": "code",
      "execution_count": 8,
      "metadata": {
        "colab": {
          "base_uri": "https://localhost:8080/"
        },
        "id": "AEz4xrPEM1li",
        "outputId": "7a3c2957-ed79-40af-a32f-fdc4088fba52"
      },
      "outputs": [
        {
          "name": "stdout",
          "output_type": "stream",
          "text": [
            "[{'label': 'POSITIVE', 'score': 0.3956296741962433},\n",
            " {'label': 'NEGATIVE', 'score': 0.38501259684562683},\n",
            " {'label': 'NEGATIVE', 'score': 0.3968161940574646},\n",
            " {'label': 'NEGATIVE', 'score': 0.38515138626098633}]\n"
          ]
        }
      ],
      "source": [
        "pipe([\n",
        "    'Отличное место!',\n",
        "    'Спасибо деду за победу!',\n",
        "    'Я не знаю, что делать',\n",
        "    'Мне всегда не везет :('\n",
        "])"
      ]
    },
    {
      "cell_type": "markdown",
      "metadata": {
        "id": "Ct3gzsAINpLL"
      },
      "source": [
        "### Дообучение на датасете\n",
        "Дообучать будем только \"голову\" модели - верхний модуль, который отвечает за классификацию, чтобы максимально сократить количество обучаемых параметров."
      ]
    },
    {
      "cell_type": "code",
      "execution_count": 11,
      "metadata": {
        "colab": {
          "base_uri": "https://localhost:8080/"
        },
        "id": "ExMIJAvPNTM0",
        "outputId": "2d2c3661-9e6e-4440-a8d6-2102f5ab290c"
      },
      "outputs": [
        {
          "name": "stdout",
          "output_type": "stream",
          "text": [
            "==================================================\n",
            "ДООБУЧЕНИЕ BERT (ТОЛЬКО ГОЛОВА)\n",
            "==================================================\n",
            "Обучаемый параметр: classifier.weight\n",
            "Обучаемый параметр: classifier.bias\n",
            "\n",
            "Обучаемых параметров: 2,307\n",
            "Всего параметров: 177,855,747\n",
            "Доля обучаемых: 0.00%\n"
          ]
        }
      ],
      "source": [
        "# дообучение BERT - только classification head\n",
        "print(\"=\"*50)\n",
        "print(\"ДООБУЧЕНИЕ BERT (ТОЛЬКО ГОЛОВА)\")\n",
        "print(\"=\"*50)\n",
        "\n",
        "# заморозим все слои BERT, кроме головы классификации\n",
        "for name, param in model.named_parameters():\n",
        "    if 'classifier' not in name:  # Замораживаем все, кроме classifier\n",
        "        param.requires_grad = False\n",
        "    else:\n",
        "        param.requires_grad = True\n",
        "        print(f\"Обучаемый параметр: {name}\")\n",
        "\n",
        "trainable_params = sum(p.numel() for p in model.parameters() if p.requires_grad)\n",
        "total_params = sum(p.numel() for p in model.parameters())\n",
        "\n",
        "print(f\"\\nОбучаемых параметров: {trainable_params:,}\")\n",
        "print(f\"Всего параметров: {total_params:,}\")\n",
        "print(f\"Доля обучаемых: {trainable_params/total_params*100:.2f}%\")"
      ]
    },
    {
      "cell_type": "code",
      "execution_count": 12,
      "metadata": {
        "colab": {
          "base_uri": "https://localhost:8080/",
          "height": 177,
          "referenced_widgets": [
            "f75a983b9d274d8cad45dc7450fbae08",
            "71139a4c7b8e4459a3d43b668d05015d",
            "85a14f1ae23043b9a8ceca5d077adab4",
            "a98b2b29d6ea4e96b6f7776957ad6c08",
            "6cc7c8413ae046dfb0e1a3b0ef536cba",
            "25e1fac9b0f94c59bc9df6c94a835598",
            "f9c55a00eb6d4416b39c0ab0b9a4eedc",
            "344c55be85b443b4b24d22d5cb332512",
            "8c7e2fe220444c22955876c23538de56",
            "6d9100d0c8204c82bf9be8455e1d90a7",
            "554df694c2bc4b1ba380eda48bfa749b",
            "0ef7134c7cf546c9bc68e86b21d7dde1",
            "b9807611624347a8bb52132a01687dec",
            "e9b33464997948e49dc93032a706d5cb",
            "a04793de793b4eef8633eb95869af0e6",
            "f2d6779cd50e47a882a2db635f75a17d",
            "1604b5d9f78748ffb870d016151e93e7",
            "0bb4e668131141148f55bcd98e0fb45a",
            "3f0b53301a5e4271b490974b589e7951",
            "be12dda4614d4ece86fd4fea95014f8a",
            "9c9c4412959f4b46b960965e9e21ef5c",
            "1532052dc2b747a6b740ba97027a1459",
            "cf38a09c565c4c09978eae596e213d52",
            "ea18db29f2714524b03791f003341fbc",
            "bce37c4c3a3a4ac59d50750037cee084",
            "dc3e7bdb06f84097b4a00a6c10281d41",
            "117b6d4fddd74172b4cc4864cd0734b2",
            "86167d0c0d5d42ae8bdaa3b51cc091a6",
            "6e7065c016ad401988cbab9e98413294",
            "365cc29199d349f4908eee36badeedcc",
            "db6f43f46b344fb68c68bf5d01a3f5ef",
            "40fcf12fe3114f30b87c54df41c113a1",
            "f308cac0c53f4623bdbbe75f64fd54c4",
            "6d90c552bb3145e9a83fa489aeefebb2",
            "da3c1caa2ca849bca2e1d497364ef0b1",
            "2261fb5fd23a4d09b547d51508a7acdf",
            "19df6f3278754cb0b164e48c2709fc3c",
            "5bb13450b7a54de3aa8d952ed77b32ad",
            "c83605710ddc4231906a861a4d780cf3",
            "914fc186a2184858bffc45086a42ce1b",
            "e863e12319d14176bd55f88cd829fd2c",
            "dd25a7b64cfe464680af366216179421",
            "773ef49f059c4a5eb8d94682d20ab788",
            "b62cc282467843efbd0a697fc35062c0",
            "419243c65091472cbdbc554a37ac9778",
            "f25d741085d748f88139e85dae70ddb4",
            "3764b411453749b0884345515b7b83e5",
            "9e8fa97f118944afa747bd303eacf82c",
            "975839d9d587462f9fb0f63b57aa1eec",
            "c480202093094450b69604606f3bd25c",
            "c4b38bc4cbf242d3a39b6ddda02d3aa6",
            "efd44093494d442e8e236ea1a8c5410a",
            "6e85f3bb0c0347f189bbc0777df0bc1a",
            "bbbef1a21b2a4caf925b0586b8b9e4ed",
            "6b46826772f347bf9203bffb4c8c929a"
          ]
        },
        "id": "3HYXQ7WeNTKh",
        "outputId": "9fc81cb7-511b-4a12-9ef5-79063819a495"
      },
      "outputs": [],
      "source": [
        "# загрузка датасета RuSentiment\n",
        "df = datasets.load_dataset(\"MonoHime/ru_sentiment_dataset\")"
      ]
    },
    {
      "cell_type": "code",
      "execution_count": 13,
      "metadata": {
        "id": "EHg3rZGtNTIB"
      },
      "outputs": [],
      "source": [
        "df_train, df_test = df['train'].to_pandas(), df['validation'].to_pandas()\n",
        "df_train, df_test = df_train.drop('Unnamed: 0', axis=1), df_test.drop('Unnamed: 0', axis=1)"
      ]
    },
    {
      "cell_type": "code",
      "execution_count": 14,
      "metadata": {
        "colab": {
          "base_uri": "https://localhost:8080/"
        },
        "id": "4-YUZP8xNTFu",
        "outputId": "7704fa72-d4a5-4f2d-aac3-b079f7e61fa6"
      },
      "outputs": [
        {
          "name": "stdout",
          "output_type": "stream",
          "text": [
            "((189891, 2), (21098, 2))\n"
          ]
        }
      ],
      "source": [
        "df_train.shape, df_test.shape"
      ]
    },
    {
      "cell_type": "code",
      "execution_count": 15,
      "metadata": {
        "id": "14o-bxepNTA8"
      },
      "outputs": [],
      "source": [
        "# разделение на трейн и валидацию для замеров качества в процессе обучения\n",
        "df_train, df_val = train_test_split(df_train,\n",
        "                                    train_size=0.8,\n",
        "                                    shuffle=True,\n",
        "                                    stratify=df_train['sentiment'],\n",
        "                                    random_state=42)\n",
        "\n",
        "df_train, df_val, df_test = df_train.reset_index(drop=True), df_val.reset_index(drop=True), df_test.reset_index(drop=True)"
      ]
    },
    {
      "cell_type": "code",
      "execution_count": 16,
      "metadata": {
        "colab": {
          "base_uri": "https://localhost:8080/"
        },
        "id": "xZSdG-E4NRaq",
        "outputId": "9da491f8-fd43-4552-ecc3-340bdd2d6caf"
      },
      "outputs": [
        {
          "name": "stdout",
          "output_type": "stream",
          "text": [
            "(151912, 37979, 21098)\n"
          ]
        }
      ],
      "source": [
        "df_train.shape[0], df_val.shape[0], df_test.shape[0]"
      ]
    },
    {
      "cell_type": "code",
      "execution_count": 20,
      "metadata": {
        "colab": {
          "base_uri": "https://localhost:8080/"
        },
        "id": "fiTe9WQIM1eq",
        "outputId": "4210d48d-ec21-4daf-c718-3224d717c13b"
      },
      "outputs": [
        {
          "data": {
            "text/plain": [
              "DatasetDict({\n",
              "    train: Dataset({\n",
              "        features: ['text', 'sentiment'],\n",
              "        num_rows: 151912\n",
              "    })\n",
              "    validation: Dataset({\n",
              "        features: ['text', 'sentiment'],\n",
              "        num_rows: 37979\n",
              "    })\n",
              "    test: Dataset({\n",
              "        features: ['text', 'sentiment'],\n",
              "        num_rows: 21098\n",
              "    })\n",
              "})"
            ]
          },
          "execution_count": 20,
          "metadata": {},
          "output_type": "execute_result"
        }
      ],
      "source": [
        "df = datasets.DatasetDict({\n",
        "    'train': datasets.Dataset.from_pandas(df_train),\n",
        "    'validation': datasets.Dataset.from_pandas(df_val),\n",
        "    'test': datasets.Dataset.from_pandas(df_test)\n",
        "})\n",
        "\n",
        "df"
      ]
    },
    {
      "cell_type": "code",
      "execution_count": 21,
      "metadata": {
        "colab": {
          "base_uri": "https://localhost:8080/"
        },
        "id": "8kHL7EXUSDMj",
        "outputId": "9f2b7b92-ec98-4a21-887c-b5d97cad2e74"
      },
      "outputs": [
        {
          "data": {
            "text/plain": [
              "{'text': 'Выражаю благодарность Выражаю огромную благодарность Леониду, Любови и Ольге Викторовне за тот уют, тепло, комфорт, который нам предоставили в хостеле \"Москва 2000\". Идеальная чистота, порядок, радушие хозяев, а самое главное они всегда готовы помочь во всем и помогают абсолютно всем. Огромное Вам СПАСИБО! ',\n",
              " 'sentiment': 1}"
            ]
          },
          "execution_count": 21,
          "metadata": {},
          "output_type": "execute_result"
        }
      ],
      "source": [
        "df['train'][0]"
      ]
    },
    {
      "cell_type": "code",
      "execution_count": 22,
      "metadata": {
        "id": "0Xbve3IGRXCV"
      },
      "outputs": [],
      "source": [
        "# функция токенизации\n",
        "\n",
        "def tokenize_function(examples):\n",
        "  return tokenizer(\n",
        "      examples['text'],\n",
        "      truncation=True,\n",
        "      max_length=model.config.max_position_embeddings,\n",
        "      padding=False,  # динамический padding в collator\n",
        "  )"
      ]
    },
    {
      "cell_type": "code",
      "execution_count": 23,
      "metadata": {
        "colab": {
          "base_uri": "https://localhost:8080/",
          "height": 351,
          "referenced_widgets": [
            "f5328cf92891417cb0a1edb172faeea9",
            "90f68d5cf743452f9cde48d93609d520",
            "6d65dcc53ef648deaa2d69bf7f735b7f",
            "c9c8e54808a34acaa483b1af26b8aa8f",
            "948896d714d941f4bdf10d61ef7a48b0",
            "3e4acfdaaa81468bb07182fe25c222c7",
            "b7f07d43ca6749ea895feac90c2b10a8",
            "53ae00acace643c0b05ae3c408f2cd76",
            "b35ff9d322e84364a9d69645d69ead7d",
            "d3dd7f0640f04381b9aacd38294ed262",
            "195d7c0f01e9442a9361a10f3582a44e",
            "3195b14b5a5e425683ef680e1f4af12f",
            "7120158cca9747b2b3cca8d2488bb9ac",
            "d578bb1fb25b4547ba28d3e921a26552",
            "846b5f1822324701a768a02782386081",
            "2ea395d7c96844909934486a4b6929e0",
            "d77545a95bcf489fa80251f046874dba",
            "82495cf6d8ad4eebbcf1cb74b3452544",
            "4418540b24bc48bf85f8eafae5944b9f",
            "e8fe5bc3b83947db9d1f48ccb4aed002",
            "85d7de3f8ed948aba734e33d1aa93bfe",
            "146e4bc681794bbd9673b2a7c922d3e9",
            "e809517ac50c49d088b4e87d72cc575b",
            "35f0081f1c9f4f2f9e314381731fc75c",
            "fd0c32d581ff440d9ae31e0bb4a08ed1",
            "9252ae3027e54bb48ecba60730cd571e",
            "33fdc0fabadb461f93de03292ead53c9",
            "ab95f116ce1048ada167e5c418911494",
            "c42732ebb13f431aa104edd51708b22c",
            "36ff58dbf8214731b8f50d9a4791a529",
            "e1248297660347c1a65f73d79abbf691",
            "a185dfc0daac4ef4aa35c23f6937fd0d",
            "9f221b9e1b354870a6d9fa9b0fa1e91b"
          ]
        },
        "id": "NlJqXkH9RW_Z",
        "outputId": "1baa4b32-d8a8-4f75-ef38-7bfb2c44500a"
      },
      "outputs": [
        {
          "data": {
            "application/vnd.jupyter.widget-view+json": {
              "model_id": "f5328cf92891417cb0a1edb172faeea9",
              "version_major": 2,
              "version_minor": 0
            },
            "text/plain": [
              "Map:   0%|          | 0/151912 [00:00<?, ? examples/s]"
            ]
          },
          "metadata": {},
          "output_type": "display_data"
        },
        {
          "data": {
            "application/vnd.jupyter.widget-view+json": {
              "model_id": "3195b14b5a5e425683ef680e1f4af12f",
              "version_major": 2,
              "version_minor": 0
            },
            "text/plain": [
              "Map:   0%|          | 0/37979 [00:00<?, ? examples/s]"
            ]
          },
          "metadata": {},
          "output_type": "display_data"
        },
        {
          "data": {
            "application/vnd.jupyter.widget-view+json": {
              "model_id": "e809517ac50c49d088b4e87d72cc575b",
              "version_major": 2,
              "version_minor": 0
            },
            "text/plain": [
              "Map:   0%|          | 0/21098 [00:00<?, ? examples/s]"
            ]
          },
          "metadata": {},
          "output_type": "display_data"
        },
        {
          "data": {
            "text/plain": [
              "DatasetDict({\n",
              "    train: Dataset({\n",
              "        features: ['labels', 'input_ids', 'token_type_ids', 'attention_mask'],\n",
              "        num_rows: 151912\n",
              "    })\n",
              "    validation: Dataset({\n",
              "        features: ['labels', 'input_ids', 'token_type_ids', 'attention_mask'],\n",
              "        num_rows: 37979\n",
              "    })\n",
              "    test: Dataset({\n",
              "        features: ['labels', 'input_ids', 'token_type_ids', 'attention_mask'],\n",
              "        num_rows: 21098\n",
              "    })\n",
              "})"
            ]
          },
          "execution_count": 23,
          "metadata": {},
          "output_type": "execute_result"
        }
      ],
      "source": [
        "tokenized_df = df.map(tokenize_function, batched=True, remove_columns=['text'])\n",
        "tokenized_df = tokenized_df.rename_columns({'sentiment': 'labels'})\n",
        "tokenized_df"
      ]
    },
    {
      "cell_type": "code",
      "execution_count": 24,
      "metadata": {
        "id": "rzLHFt15YDlL"
      },
      "outputs": [],
      "source": [
        "# коллатор для динамического паддинга\n",
        "data_collator = DataCollatorWithPadding(tokenizer=tokenizer)"
      ]
    },
    {
      "cell_type": "code",
      "execution_count": 25,
      "metadata": {
        "id": "zqg65616RW60"
      },
      "outputs": [],
      "source": [
        "# устанавливаем формат для PyTorch\n",
        "tokenized_df.set_format('torch', columns=['input_ids', 'attention_mask', 'labels'])"
      ]
    },
    {
      "cell_type": "code",
      "execution_count": 28,
      "metadata": {
        "colab": {
          "base_uri": "https://localhost:8080/",
          "height": 145,
          "referenced_widgets": [
            "4dc32df964d14c8f93759cf847556d7b",
            "2e1643a0c8914889b9737164992c0aa0",
            "20996683db644d25a0c2095a9d568519",
            "7e4507cf55f041d08e07bf9051efc57f",
            "f2f9b5622d6e46b8acab27ea7d1ba287",
            "266029b3d52e438895135d84ed63dac0",
            "288d8aff949e4982811741336ccfb74d",
            "7831c68c7ba549d7a8d88ab18095ef7b",
            "33158f8c59ff44918b6570dd6aa837e8",
            "604454c1560449d6970276e37e74d2e6",
            "6a22609e3e024301882cefdc6ced31f9",
            "33838675a9704017b78273b60d341105",
            "813ed6bd7a9f4b58918edd6ca19d0c8e",
            "b6560f18103c48fb88bfeb8b9b01e04b",
            "4e3c458a2e2d4954b3c80960c7cf2b58",
            "7a7a09b7652145b7a3c88bfce7d4fb3c",
            "a461bb57888645698c97dada9a634742",
            "0ea695893733444f8f99614d54f5909e",
            "32ac3aba54cc463f8643882384cde9fd",
            "a4775982195246ba8d9735a3428e63e8",
            "2e001b3105204c75a10868f456e29b22",
            "176f8096f8044e8fb1e88f047b1276c2",
            "0776f003b39644a982bf773903aea529",
            "ceab216a7da94c0e97d1c3e728a1572c",
            "ffb0f92f8d454d389ef80ed811c8d016",
            "7eb072de790c49778e469a5480d643ce",
            "fcfb903d9b0644d78001af13bb99d4fb",
            "650b5096b779435db9c31b18dae79ce2",
            "c45ff39659034a23b21681c344ccb497",
            "28f17066bbab4cdeabb6ebcf3eccf7b5",
            "d2d2a74b176941638b74eea0a80893d9",
            "0f597cca6145400785d2c65843d0f1eb",
            "95393cf9c33e41c49b61adb434ec390f",
            "1eb04a344f054f2c82c1fd325a213647",
            "a15fe0c61540472babde1b3bee4dd74c",
            "5d5583381b50424cbc05878edacb255f",
            "2d18b63aa1d24af0acdb6d0f476c1076",
            "369b23b1c5474489828ab85fddcec561",
            "1dec692d60574defa1acf6fc67afa6cb",
            "4449b809e6c94d149904f624f90e0561",
            "67985a3b51384ae7a5a6529ebac40c9b",
            "3899454ed0844e4ab7372774ee200e92",
            "9ca1ccfc24244fe38b79ef3bcff3c951",
            "235dec590fd34f2e934309c08b813e84"
          ]
        },
        "id": "XFG4wGhyTovs",
        "outputId": "912b2f21-57b5-4a07-be75-f7839acf7cf7"
      },
      "outputs": [
        {
          "data": {
            "application/vnd.jupyter.widget-view+json": {
              "model_id": "4dc32df964d14c8f93759cf847556d7b",
              "version_major": 2,
              "version_minor": 0
            },
            "text/plain": [
              "Downloading builder script: 0.00B [00:00, ?B/s]"
            ]
          },
          "metadata": {},
          "output_type": "display_data"
        },
        {
          "data": {
            "application/vnd.jupyter.widget-view+json": {
              "model_id": "33838675a9704017b78273b60d341105",
              "version_major": 2,
              "version_minor": 0
            },
            "text/plain": [
              "Downloading builder script: 0.00B [00:00, ?B/s]"
            ]
          },
          "metadata": {},
          "output_type": "display_data"
        },
        {
          "data": {
            "application/vnd.jupyter.widget-view+json": {
              "model_id": "0776f003b39644a982bf773903aea529",
              "version_major": 2,
              "version_minor": 0
            },
            "text/plain": [
              "Downloading builder script: 0.00B [00:00, ?B/s]"
            ]
          },
          "metadata": {},
          "output_type": "display_data"
        },
        {
          "data": {
            "application/vnd.jupyter.widget-view+json": {
              "model_id": "1eb04a344f054f2c82c1fd325a213647",
              "version_major": 2,
              "version_minor": 0
            },
            "text/plain": [
              "Downloading builder script: 0.00B [00:00, ?B/s]"
            ]
          },
          "metadata": {},
          "output_type": "display_data"
        }
      ],
      "source": [
        "accuracy = evaluate.load('accuracy')\n",
        "precision = evaluate.load('precision')\n",
        "recall = evaluate.load('recall')\n",
        "f1_score = evaluate.load('f1')"
      ]
    },
    {
      "cell_type": "code",
      "execution_count": 29,
      "metadata": {
        "id": "iZFkRoZxTotg"
      },
      "outputs": [],
      "source": [
        "# функция для вычисления метрик при обучении и тестировании\n",
        "def compute_metrics(eval_pred: tuple) -> dict:\n",
        "  logits, labels = eval_pred\n",
        "  predictions = np.argmax(logits, axis=-1)\n",
        "\n",
        "  return {\n",
        "      'accuracy': accuracy.compute(predictions, labels)['accuracy'],\n",
        "      'precision_macro': precision.compute(predictions, labels, average='macro')['precision'],\n",
        "      'recall_macro': recall.compute(predictions, labels, average='macro')['recall'],\n",
        "      'f1_macro': f1_score.compute(predictions, labels, average='macro')['f1']\n",
        "  }"
      ]
    },
    {
      "cell_type": "code",
      "execution_count": 32,
      "metadata": {
        "id": "-rnCBehyTorS"
      },
      "outputs": [],
      "source": [
        "# настройки обучения\n",
        "\n",
        "training_args = TrainingArguments(\n",
        "    output_dir='./training',\n",
        "    num_train_epochs=3,               # Количество эпох\n",
        "    per_device_train_batch_size=24,   # Размер батча\n",
        "    per_device_eval_batch_size=48,\n",
        "    warmup_ratio=0.1,                 # 10% шагов - плавное увеличение LR с 0 до learning_rate\n",
        "    weight_decay=0.01,                # L2 регуляризация\n",
        "    learning_rate=5e-4,\n",
        "    eval_strategy='epoch',            # Оценка после каждой эпохи\n",
        "    save_strategy='epoch',            # Сохранение после каждой эпохи\n",
        "    load_best_model_at_end=True,      # Загрузка лучшей модели в конце\n",
        "    metric_for_best_model='accuracy',\n",
        "    greater_is_better=True,           # Чем больше метрика - тем лучше\n",
        "    report_to='none',                 # Отключение WandD/TensorBoard\n",
        ")\n",
        "\n",
        "trainer = Trainer(\n",
        "    model=model,\n",
        "    args=training_args,\n",
        "    train_dataset=tokenized_df[\"train\"],\n",
        "    eval_dataset=tokenized_df[\"validation\"],\n",
        "    compute_metrics=compute_metrics,\n",
        "    data_collator=data_collator,\n",
        ")"
      ]
    },
    {
      "cell_type": "code",
      "execution_count": null,
      "metadata": {
        "colab": {
          "base_uri": "https://localhost:8080/",
          "height": 37
        },
        "id": "EOH6YKoSToo_",
        "outputId": "5bee24c5-1614-4649-bc11-8e58e89aaefb"
      },
      "outputs": [
        {
          "data": {
            "text/html": [
              "\n",
              "    <div>\n",
              "      \n",
              "      <progress value='330' max='330' style='width:300px; height:20px; vertical-align: middle;'></progress>\n",
              "      [330/330 10:39]\n",
              "    </div>\n",
              "    "
            ],
            "text/plain": [
              "<IPython.core.display.HTML object>"
            ]
          },
          "metadata": {},
          "output_type": "display_data"
        }
      ],
      "source": [
        "# метрики до обучения\n",
        "eval_results_before = trainer.evaluate(eval_dataset=tokenized_df['test'])"
      ]
    },
    {
      "cell_type": "code",
      "execution_count": null,
      "metadata": {
        "colab": {
          "base_uri": "https://localhost:8080/"
        },
        "id": "LefSx8YtToms",
        "outputId": "975c29ba-94a2-4562-bba2-71988c280292"
      },
      "outputs": [
        {
          "data": {
            "text/plain": [
              "{'eval_loss': 1.0810511112213135,\n",
              " 'eval_model_preparation_time': 0.0025,\n",
              " 'eval_accuracy': 0.46355104749265336,\n",
              " 'eval_precision_macro': 0.35700305350640954,\n",
              " 'eval_recall_macro': 0.3409593936150815,\n",
              " 'eval_f1_macro': 0.2702472377444269,\n",
              " 'eval_runtime': 642.0055,\n",
              " 'eval_samples_per_second': 32.863,\n",
              " 'eval_steps_per_second': 0.514}"
            ]
          },
          "execution_count": 33,
          "metadata": {},
          "output_type": "execute_result"
        }
      ],
      "source": [
        "eval_results_before"
      ]
    },
    {
      "cell_type": "code",
      "execution_count": 33,
      "metadata": {
        "colab": {
          "base_uri": "https://localhost:8080/",
          "height": 219
        },
        "id": "xj7LpxkITokZ",
        "outputId": "10599b2f-d47e-418a-9210-80a33ffe488e"
      },
      "outputs": [
        {
          "data": {
            "text/html": [
              "\n",
              "    <div>\n",
              "      \n",
              "      <progress value='18990' max='18990' style='width:300px; height:20px; vertical-align: middle;'></progress>\n",
              "      [18990/18990 4:03:27, Epoch 3/3]\n",
              "    </div>\n",
              "    <table border=\"1\" class=\"dataframe\">\n",
              "  <thead>\n",
              " <tr style=\"text-align: left;\">\n",
              "      <th>Epoch</th>\n",
              "      <th>Training Loss</th>\n",
              "      <th>Validation Loss</th>\n",
              "      <th>Accuracy</th>\n",
              "      <th>Precision Macro</th>\n",
              "      <th>Recall Macro</th>\n",
              "      <th>F1 Macro</th>\n",
              "    </tr>\n",
              "  </thead>\n",
              "  <tbody>\n",
              "    <tr>\n",
              "      <td>1</td>\n",
              "      <td>0.723500</td>\n",
              "      <td>0.702876</td>\n",
              "      <td>0.665262</td>\n",
              "      <td>0.658673</td>\n",
              "      <td>0.619927</td>\n",
              "      <td>0.631285</td>\n",
              "    </tr>\n",
              "    <tr>\n",
              "      <td>2</td>\n",
              "      <td>0.707900</td>\n",
              "      <td>0.677166</td>\n",
              "      <td>0.682956</td>\n",
              "      <td>0.668319</td>\n",
              "      <td>0.657768</td>\n",
              "      <td>0.662186</td>\n",
              "    </tr>\n",
              "    <tr>\n",
              "      <td>3</td>\n",
              "      <td>0.708600</td>\n",
              "      <td>0.674178</td>\n",
              "      <td>0.684852</td>\n",
              "      <td>0.674572</td>\n",
              "      <td>0.655979</td>\n",
              "      <td>0.663387</td>\n",
              "    </tr>\n",
              "  </tbody>\n",
              "</table><p>"
            ],
            "text/plain": [
              "<IPython.core.display.HTML object>"
            ]
          },
          "metadata": {},
          "output_type": "display_data"
        },
        {
          "data": {
            "text/plain": [
              "TrainOutput(global_step=18990, training_loss=0.7384136647911935, metrics={'train_runtime': 14608.7856, 'train_samples_per_second': 31.196, 'train_steps_per_second': 1.3, 'total_flos': 1.1028600761394283e+17, 'train_loss': 0.7384136647911935, 'epoch': 3.0})"
            ]
          },
          "execution_count": 33,
          "metadata": {},
          "output_type": "execute_result"
        }
      ],
      "source": [
        "# обучение модели\n",
        "trainer.train()"
      ]
    },
    {
      "cell_type": "code",
      "execution_count": 34,
      "metadata": {
        "colab": {
          "base_uri": "https://localhost:8080/",
          "height": 37
        },
        "id": "xB-VyydYToiU",
        "outputId": "b34ceae7-9656-4e45-eab6-67c587d695e4"
      },
      "outputs": [
        {
          "data": {
            "text/html": [
              "\n",
              "    <div>\n",
              "      \n",
              "      <progress value='792' max='792' style='width:300px; height:20px; vertical-align: middle;'></progress>\n",
              "      [792/792 16:15]\n",
              "    </div>\n",
              "    "
            ],
            "text/plain": [
              "<IPython.core.display.HTML object>"
            ]
          },
          "metadata": {},
          "output_type": "display_data"
        }
      ],
      "source": [
        "# финальные метрики после обучения\n",
        "eval_results_after = trainer.evaluate()"
      ]
    },
    {
      "cell_type": "code",
      "execution_count": 35,
      "metadata": {
        "colab": {
          "base_uri": "https://localhost:8080/"
        },
        "id": "W8cP2CHuToce",
        "outputId": "5d0b248a-4ebe-4a73-ac45-e1e449fbea27"
      },
      "outputs": [
        {
          "data": {
            "text/plain": [
              "{'eval_loss': 0.674177885055542,\n",
              " 'eval_accuracy': 0.684852155138366,\n",
              " 'eval_precision_macro': 0.6745719702877455,\n",
              " 'eval_recall_macro': 0.6559788110036416,\n",
              " 'eval_f1_macro': 0.6633871945334157,\n",
              " 'eval_runtime': 976.9891,\n",
              " 'eval_samples_per_second': 38.874,\n",
              " 'eval_steps_per_second': 0.811,\n",
              " 'epoch': 3.0}"
            ]
          },
          "execution_count": 35,
          "metadata": {},
          "output_type": "execute_result"
        }
      ],
      "source": [
        "eval_results_after"
      ]
    }
  ],
  "metadata": {
    "accelerator": "GPU",
    "colab": {
      "gpuType": "T4",
      "provenance": []
    },
    "kernelspec": {
      "display_name": "Python 3 (ipykernel)",
      "language": "python",
      "name": "python3"
    },
    "language_info": {
      "codemirror_mode": {
        "name": "ipython",
        "version": 3
      },
      "file_extension": ".py",
      "mimetype": "text/x-python",
      "name": "python",
      "nbconvert_exporter": "python",
      "pygments_lexer": "ipython3",
      "version": "3.9.6"
    }
  },
  "nbformat": 4,
  "nbformat_minor": 4
}
